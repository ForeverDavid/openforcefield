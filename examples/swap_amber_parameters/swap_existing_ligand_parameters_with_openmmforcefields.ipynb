{
 "cells": [
  {
   "cell_type": "markdown",
   "metadata": {},
   "source": [
    "## Replacing ligand parameters in an already-parametrized system\n",
    "\n",
    "This example applies SMIRNOFF-format parameters to a BRD4 inhibitor from the [living review on binding free energy benchmark systems](https://www.annualreviews.org/doi/abs/10.1146/annurev-biophys-070816-033654) by Mobley and Gilson. The BRD4 system comes from the [accompanying GitHub repository](https://github.com/MobleyLab/benchmarksets/tree/master/input_files/BRD4).\n",
    "\n",
    "This example uses [ParmEd](http://parmed.github.io) to take a protein-ligand system parameterized with an alternate force field, and replace the force field used for the ligand with an OpenFF force field. This example is meant to illustrate how to apply parameters to a single ligand, but it's also easy to process many ligands.\n",
    "\n",
    "### Loading the already-parametrized system"
   ]
  },
  {
   "cell_type": "code",
   "execution_count": null,
   "metadata": {},
   "outputs": [],
   "source": [
    "# Retrieve protein and ligand files for BRD4 and a docked inhibitor from the benchmark systems GitHub repository\n",
    "# https://github.com/MobleyLab/benchmarksets\n",
    "import requests\n",
    "repo_url = 'https://raw.githubusercontent.com/MobleyLab/benchmarksets/master/input_files/'\n",
    "sources = {\n",
    "    'system.pdb' : repo_url + 'BRD4/prmtop-coords/BRD4-1.pdb', # complete system (protein+ligand+solvent+ions)\n",
    "    'ligand.sdf'   : repo_url + 'BRD4/sdf/ligand-1.sdf', # ligand molecular identity\n",
    "}\n",
    "for (filename, url) in sources.items():\n",
    "    r = requests.get(url)\n",
    "    open(filename, 'w').write(r.text)"
   ]
  },
  {
   "cell_type": "code",
   "execution_count": null,
   "metadata": {},
   "outputs": [],
   "source": [
    "# Read complete system in OpenMM PDBFile\n",
    "from simtk.openmm.app import PDBFile\n",
    "system_pdb = 'system.pdb'\n",
    "pdbfile = PDBFile(system_pdb)"
   ]
  },
  {
   "cell_type": "code",
   "execution_count": null,
   "metadata": {},
   "outputs": [],
   "source": [
    "# Load the definition of the small molecule in the system from an SDF file\n",
    "from openforcefield.topology import Molecule\n",
    "ligand = Molecule.from_file('ligand.sdf')"
   ]
  },
  {
   "cell_type": "code",
   "execution_count": null,
   "metadata": {},
   "outputs": [],
   "source": [
    "# Create an OpenMM ForceField object with AMBER ff14SB and TIP3P with compatible ions\n",
    "from simtk.openmm import app\n",
    "forcefield = app.ForceField('amber/protein.ff14SB.xml', 'amber/tip3p_standard.xml', 'amber/tip3p_HFE_multivalent.xml')\n",
    "# Use the SMIRNOFF residue template generator to load the openff-1.0.0 (\"Parsley\") that knows about the ligand\n",
    "from openmmforcefields.generators import SMIRNOFFTemplateGenerator\n",
    "smirnoff = SMIRNOFFTemplateGenerator(forcefield='openff-1.0.0', molecules=ligand)\n",
    "# Register the SMIRNOFF template generator\n",
    "forcefield.registerTemplateGenerator(smirnoff.generator)"
   ]
  },
  {
   "cell_type": "code",
   "execution_count": null,
   "metadata": {},
   "outputs": [],
   "source": [
    "# Create a parameterized OpenMM System from the PDB topology without bond constraints so we can convert to other packages\n",
    "from simtk import unit\n",
    "system = forcefield.createSystem(pdbfile.topology, nonbondedMethod=app.PME, constraints=None, rigidWater=False, removeCMMotion=False)"
   ]
  },
  {
   "cell_type": "markdown",
   "metadata": {},
   "source": [
    "###  Create a ParmEd Structure object to export to other formats"
   ]
  },
  {
   "cell_type": "code",
   "execution_count": null,
   "metadata": {},
   "outputs": [],
   "source": [
    "# Create the complex Structure\n",
    "import parmed\n",
    "complex_structure = parmed.openmm.load_topology(pdbfile.topology, system=system)\n",
    "\n",
    "# Copy over the original coordinates and box vectors\n",
    "complex_structure.coordinates = orig_structure.coordinates\n",
    "complex_structure.box_vectors = orig_structure.box_vectors"
   ]
  },
  {
   "cell_type": "markdown",
   "metadata": {},
   "source": [
    "### Export to AMBER and GROMACS formats\n",
    "\n",
    "We started off in AMBER format, and presumably may want to continue in that format -- so let's write out to AMBER and GROMACS format:"
   ]
  },
  {
   "cell_type": "code",
   "execution_count": null,
   "metadata": {},
   "outputs": [],
   "source": [
    "# Export the Structure to AMBER files\n",
    "complex_structure.save('complex.prmtop', overwrite=True)\n",
    "complex_structure.save('complex.inpcrd', overwrite=True)\n",
    "\n",
    "# Export the Structure to Gromacs files\n",
    "complex_structure.save('complex.gro', overwrite=True)\n",
    "complex_structure.save('complex.top', overwrite=True)"
   ]
  },
  {
   "cell_type": "markdown",
   "metadata": {},
   "source": [
    "That should conclude our work in this example. However, perhaps we should just doublecheck by ensuring we can actually run some dynamics on the combined system without any trouble.\n",
    "\n",
    "\n",
    "## As a test, run some dynamics on the combined system\n",
    "\n",
    "First, we create an OpenMM system, as we've done in other examples here. We can do this, in this case, using ParmEd's built-in `createSystem` functionality already attached to the combined `Structure`. We ask for a reasonable cutoff, constrained hydrogen bonds (note that **this keyword argument overrides the fact that we use the `unconstrained` force field above**; the ligand (and all other molecules in the system) **will** have covalent bonds to hydrogen constrainted), PME, and rigid water:"
   ]
  },
  {
   "cell_type": "code",
   "execution_count": null,
   "metadata": {},
   "outputs": [],
   "source": [
    "from simtk.openmm import app, unit, LangevinIntegrator\n",
    "import numpy as np\n",
    "from parmed.openmm import NetCDFReporter\n",
    "\n",
    "\n",
    "system = complex_structure.createSystem(nonbondedMethod=app.PME,\n",
    "                                         nonbondedCutoff=9*unit.angstrom,\n",
    "                                         constraints=app.HBonds,\n",
    "                                         rigidWater=True)\n"
   ]
  },
  {
   "cell_type": "markdown",
   "metadata": {},
   "source": [
    "Next we'll set up the integrator, a reporter to write the trajectory, pick the timestep, and then go on to minimize the energy and run a very short amount of dynamics after setting the temperature to 300K:"
   ]
  },
  {
   "cell_type": "code",
   "execution_count": null,
   "metadata": {},
   "outputs": [],
   "source": [
    "integrator = LangevinIntegrator(300*unit.kelvin, \n",
    "                                1/unit.picosecond, \n",
    "                                0.001*unit.picoseconds)\n",
    "simulation = app.Simulation(complex_structure.topology, system, integrator)\n",
    "\n",
    "# Depending on where your system came from, you may want to \n",
    "# add something like (30, 30, 30)*Angstrom to center the protein \n",
    "# (no functional effect, just visualizes better)\n",
    "#simulation.context.setPositions(complex_structure.positions + np.array([30, 30, 30])*unit.angstrom)\n",
    "\n",
    "simulation.context.setPositions(complex_structure.positions)\n",
    "\n",
    "nc_reporter = NetCDFReporter('trajectory.nc', 10)\n",
    "simulation.reporters.append(nc_reporter)"
   ]
  },
  {
   "cell_type": "code",
   "execution_count": null,
   "metadata": {},
   "outputs": [],
   "source": [
    "simulation.minimizeEnergy()\n",
    "minimized_coords = simulation.context.getState(getPositions=True).getPositions()"
   ]
  },
  {
   "cell_type": "code",
   "execution_count": null,
   "metadata": {},
   "outputs": [],
   "source": [
    "simulation.context.setVelocitiesToTemperature(300*unit.kelvin)\n",
    "simulation.step(1000)"
   ]
  }
 ],
 "metadata": {
  "kernelspec": {
   "display_name": "Python 3",
   "language": "python",
   "name": "python3"
  },
  "language_info": {
   "codemirror_mode": {
    "name": "ipython",
    "version": 3
   },
   "file_extension": ".py",
   "mimetype": "text/x-python",
   "name": "python",
   "nbconvert_exporter": "python",
   "pygments_lexer": "ipython3",
   "version": "3.7.3"
  },
  "toc": {
   "nav_menu": {},
   "number_sections": true,
   "sideBar": true,
   "skip_h1_title": false,
   "toc_cell": false,
   "toc_position": {},
   "toc_section_display": "block",
   "toc_window_display": false
  }
 },
 "nbformat": 4,
 "nbformat_minor": 2
}
