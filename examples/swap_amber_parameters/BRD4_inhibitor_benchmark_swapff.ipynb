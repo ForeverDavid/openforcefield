{
 "cells": [
  {
   "cell_type": "markdown",
   "metadata": {},
   "source": [
    "## Using SMIRNOFF with Amber on BRD4:inhibitor complexes: Exporting parameterized complexes to Amber, Gromacs, and CHARMM\n",
    "\n",
    "This example applies SMIRNOFF-format parameters to BRD4 inhibitors from the [living review on binding free energy benchmark systems](https://www.annualreviews.org/doi/abs/10.1146/annurev-biophys-070816-033654) by Mobley and Gilson. The BRD4 system comes from the [accompanying GitHub repository](https://github.com/MobleyLab/benchmarksets/tree/master/input_files/BRD4).\n",
    "\n",
    "This example uses [ParmEd](http://parmed.github.io) to take a protein-ligand system parameterized with an alternate force field, and replace the force field used for the ligand with an OpenFF force field. This example is meant to illustrate how to apply parameters to a single ligand, but it's also easy to process many ligands."
   ]
  },
  {
   "cell_type": "code",
   "execution_count": 1,
   "metadata": {},
   "outputs": [],
   "source": [
    "# Retrieve protein and ligand files for BRD4 and a docked inhibitor from the benchmark systems GitHub repository\n",
    "# https://github.com/MobleyLab/benchmarksets\n",
    "import requests\n",
    "repo_url = 'https://raw.githubusercontent.com/MobleyLab/benchmarksets/master/input_files/'\n",
    "sources = {\n",
    "    'system.prmtop' : repo_url + 'BRD4/prmtop-coords/BRD4-1.prmtop',\n",
    "    'system.crd'   : repo_url + 'BRD4/prmtop-coords/BRD4-1.crds',\n",
    "    'ligand.sdf'   : repo_url + 'BRD4/sdf/ligand-1.sdf',\n",
    "    'system.pdb'   : repo_url + 'BRD4/prmtop-coords/BRD4-1.pdb',\n",
    "    'ligand.pdb'   : repo_url + 'BRD4/pdb/ligand-1.pdb'\n",
    "}\n",
    "for (filename, url) in sources.items():\n",
    "    r = requests.get(url)\n",
    "    open(filename, 'w').write(r.text)"
   ]
  },
  {
   "cell_type": "code",
   "execution_count": 2,
   "metadata": {},
   "outputs": [],
   "source": [
    "#Read AMBER to ParmEd Structure object\n",
    "import parmed\n",
    "in_prmtop = 'system.prmtop'\n",
    "in_crd = 'system.crd'\n",
    "structure = parmed.amber.AmberParm( in_prmtop, in_crd )\n"
   ]
  },
  {
   "cell_type": "code",
   "execution_count": 3,
   "metadata": {},
   "outputs": [],
   "source": [
    "pieces = structure.split()"
   ]
  },
  {
   "cell_type": "code",
   "execution_count": 4,
   "metadata": {},
   "outputs": [
    {
     "name": "stdout",
     "output_type": "stream",
     "text": [
      "Help on method split in module parmed.structure:\n",
      "\n",
      "split() method of parmed.amber._amberparm.AmberParm instance\n",
      "    Split the current Structure into separate Structure instances for each\n",
      "    unique molecule. A molecule is defined as all atoms connected by a graph\n",
      "    of covalent bonds.\n",
      "    \n",
      "    Returns\n",
      "    -------\n",
      "    [structs, counts] : list of (:class:`Structure`, list) tuples\n",
      "        List of all molecules in the order that they appear first in the\n",
      "        parent structure accompanied by the list of the molecule numbers\n",
      "        in which that molecule appears in the Structure\n",
      "\n"
     ]
    }
   ],
   "source": [
    "help(pieces[0][0].split)"
   ]
  },
  {
   "cell_type": "markdown",
   "metadata": {},
   "source": [
    "We use both a PDB file and an SDF file for the ligand."
   ]
  },
  {
   "cell_type": "code",
   "execution_count": 19,
   "metadata": {},
   "outputs": [],
   "source": [
    "# Create an OpenFF Molecule object from the ligand SDF fiel\n",
    "from openforcefield.topology import Molecule, Topology\n",
    "ligand_off_molecule = Molecule('ligand.sdf')\n",
    "# Give all atoms unique names so we can export to GROMACS\n",
    "for idx, atom in enumerate(ligand_off_molecule.atoms):\n",
    "    atom.name = f'{atom.element.symbol}{idx+6}'\n",
    "# Load the SMIRNOFF-format Parsley force field\n",
    "from openforcefield.typing.engines.smirnoff import ForceField\n",
    "force_field = ForceField('openff_unconstrained-1.0.0.offxml')\n",
    "\n",
    "# Parametrize the ligand molecule by creating a Topology object from it\n",
    "ligand_system = force_field.create_openmm_system(ligand_off_molecule.to_topology())"
   ]
  },
  {
   "cell_type": "code",
   "execution_count": 20,
   "metadata": {},
   "outputs": [],
   "source": [
    "# Read in the coordinates of the ligand from the PDB file\n",
    "from simtk.openmm.app import PDBFile\n",
    "ligand_pdbfile = PDBFile('ligand.pdb')\n",
    "\n",
    "# Convert OpenMM System object containing ligand parameters into a ParmEd Structure.\n",
    "import parmed\n",
    "\n",
    "# It should be able to work this way -- though this begins with a PDB file which is not as elegant\n",
    "#ligand_structure = parmed.openmm.load_topology(ligand_pdbfile.topology,\n",
    "#                                                ligand_system,\n",
    "#                                                xyz=ligand_pdbfile.positions)\n",
    "\n",
    "# It should also be able to work this way, which does not use a PDB file\n",
    "ligand_off_topology = Topology.from_molecules([ligand_off_molecule])\n",
    "ligand_structure = parmed.openmm.load_topology(ligand_off_topology.to_openmm(),\n",
    "                                                ligand_system,\n",
    "                                                xyz=pieces[1][0].positions)"
   ]
  },
  {
   "cell_type": "code",
   "execution_count": 21,
   "metadata": {},
   "outputs": [],
   "source": [
    "ligand_structure.save('tmp.prmtop', overwrite=True)\n",
    "ligand_structure.save('tmp.inpcrd', overwrite=True)\n",
    "ligand_structure.save('tmp.gro', overwrite=True)\n",
    "ligand_structure.save('tmp.top', overwrite=True)"
   ]
  },
  {
   "cell_type": "code",
   "execution_count": 22,
   "metadata": {},
   "outputs": [
    {
     "name": "stdout",
     "output_type": "stream",
     "text": [
      "there are 26 atoms in the new ligand\n"
     ]
    }
   ],
   "source": [
    "from openforcefield.topology import Molecule\n",
    "from openforcefield.topology import Topology\n",
    "from openforcefield.typing.engines.smirnoff import ForceField\n",
    "\n",
    "\n",
    "\n",
    "\n",
    "# Check how many atoms in ligand loaded directly\n",
    "n_atoms_new = 0\n",
    "for atom in ligand_off_molecule.atoms:\n",
    "    #Print out elements as a quick check they are in teh same order\n",
    "    #print(atom.element)\n",
    "    n_atoms_new +=1\n",
    "    \n",
    "parmed_lig, n_copies = pieces[1]\n",
    "\n",
    "# Check how many atoms in ligand from prmtop file\n",
    "n_atoms = 0\n",
    "for atom in parmed_lig:\n",
    "    # Print elements as quick check\n",
    "    #print(atom.element)\n",
    "    n_atoms +=1\n",
    "\n",
    "print(f'there are {n_atoms_new} atoms in the new ligand')\n",
    "# Print out error message if number of atoms doesn't match\n",
    "if n_atoms != n_atoms_new:\n",
    "    print(\"Error: Number of atoms in input ligand doesn't match number extracted from prmtop file.\")"
   ]
  },
  {
   "cell_type": "code",
   "execution_count": 26,
   "metadata": {},
   "outputs": [
    {
     "name": "stdout",
     "output_type": "stream",
     "text": [
      "BEFORE SYSTEM COMBINATION (just protein)\n",
      "Unique atom names: {'CB', 'H', 'S', 'C*', 'SH', 'CN', 'H5', 'C', 'N3', 'O2', 'CC', 'NB', 'O', 'HO', 'HS', 'CA', '2C', 'CO', 'H1', 'H4', 'CT', 'OH', 'CX', 'HC', 'C8', 'N2', 'HP', 'HA', 'NA', 'CR', 'CW', '3C', 'N'}\n",
      "Number of unique atom names: 33\n",
      "Number of unique epsilons: 14\n",
      "Number of unique sigmas: 14\n",
      "\n",
      "BEFORE SYSTEM COMBINATION (just ligand)\n",
      "Unique atom names: {'C1', 'C2', 'H3', 'N1', 'H2', 'H1'}\n",
      "Number of unique atom names: 6\n",
      "Number of unique epsilons: 5\n",
      "Number of unique sigmas: 5\n",
      "\n",
      "AFTER SYSTEM COMBINATION (protein+ligand)\n",
      "Unique atom names: {'C2', 'CB', 'H', 'S', 'C*', 'SH', 'CN', 'H3', 'H5', 'N1', 'C', 'H2', 'N3', 'O2', 'CC', 'NB', 'O', 'HO', 'HS', 'CA', '2C', 'CO', 'H1', 'H4', 'C1', 'CT', 'OH', 'CX', 'HC', 'C8', 'N2', 'HP', 'HA', 'NA', 'CR', 'CW', '3C', 'N'}\n",
      "Number of unique atom names: 38\n",
      "Number of unique epsilons: 19\n",
      "Number of unique sigmas: 19\n",
      "['__class__', '__copy__', '__delattr__', '__dict__', '__dir__', '__doc__', '__eq__', '__format__', '__ge__', '__getattribute__', '__getstate__', '__gt__', '__hash__', '__init__', '__init_subclass__', '__le__', '__lt__', '__module__', '__ne__', '__new__', '__reduce__', '__reduce_ex__', '__repr__', '__setattr__', '__setstate__', '__sizeof__', '__str__', '__subclasshook__', '__weakref__', '_angle_partners', '_bond_partners', '_charge', '_copy', '_dihedral_partners', '_epsilon', '_epsilon14', '_exclusion_partners', '_idx', '_rmin', '_rmin14', '_tortor_partners', 'altloc', 'angle_partners', 'angle_to', 'angles', 'anisou', 'atom_type', 'atomic_number', 'bfactor', 'bond_partners', 'bond_to', 'bonds', 'charge', 'children', 'cmaps', 'dihedral_partners', 'dihedral_to', 'dihedrals', 'element', 'element_name', 'epsilon', 'epsilon_14', 'exclude', 'exclusion_partners', 'idx', 'impropers', 'irotat', 'join', 'list', 'marked', 'mass', 'name', 'nb_idx', 'nonbonded_exclusions', 'number', 'occupancy', 'other_locations', 'prune_exclusions', 'residue', 'rmin', 'rmin_14', 'screen', 'sigma', 'sigma_14', 'solvent_radius', 'tortor_partners', 'tortor_to', 'tortors', 'tree', 'type', 'ucharge', 'uepsilon', 'uepsilon_14', 'umass', 'urey_bradleys', 'urmin', 'urmin_14', 'usigma', 'usigma_14', 'usolvent_radius', 'xx', 'xy', 'xz']\n"
     ]
    }
   ],
   "source": [
    "# Combine receptor and ligand structures\n",
    "import copy\n",
    "#Combine the protein and the ligand\n",
    "#protein_struct = copy.copy(pieces[0][0])\n",
    "#protein_struct.remake_parm()\n",
    "#complex_structure = ligand_structure + protein_struct\n",
    "\n",
    "#protein_struct = stricture.strip(pieces[0][0]/)\n",
    "#df = pieces[0][0].to_dataframe()\n",
    "#idx_list = [atom.idx for atom in pieces[0][0].atoms]\n",
    "#new_struct = structure[idx_list]\n",
    "complex_structure = parmed.Structure()\n",
    "complex_structure += pieces[0][0]\n",
    "print(\"BEFORE SYSTEM COMBINATION (just protein)\")\n",
    "print(\"Unique atom names:\", set([atom.atom_type.name for atom in complex_structure]))\n",
    "print(\"Number of unique atom names:\", len(set([atom.atom_type.name for atom in complex_structure])))\n",
    "print(\"Number of unique epsilons:\", len(set([atom.epsilon for atom in complex_structure])))\n",
    "print(\"Number of unique sigmas:\", len(set([atom.sigma for atom in complex_structure])))\n",
    "print()\n",
    "\n",
    "print(\"BEFORE SYSTEM COMBINATION (just ligand)\")\n",
    "print(\"Unique atom names:\", set([atom.atom_type.name for atom in ligand_structure]))\n",
    "print(\"Number of unique atom names:\", len(set([atom.atom_type.name for atom in ligand_structure])))\n",
    "print(\"Number of unique epsilons:\", len(set([atom.epsilon for atom in ligand_structure])))\n",
    "print(\"Number of unique sigmas:\", len(set([atom.sigma for atom in ligand_structure])))\n",
    "print()\n",
    "\n",
    "complex_structure += ligand_structure\n",
    "#new_struct.prune_empty_terms()\n",
    "#new_struct.remake_parm()\n",
    "#new_struct.recalculate_LJ()\n",
    "print(\"AFTER SYSTEM COMBINATION (protein+ligand)\")\n",
    "print(\"Unique atom names:\", set([atom.atom_type.name for atom in complex_structure]))\n",
    "print(\"Number of unique atom names:\", len(set([atom.atom_type.name for atom in complex_structure])))\n",
    "print(\"Number of unique epsilons:\", len(set([atom.epsilon for atom in complex_structure])))\n",
    "print(\"Number of unique sigmas:\", len(set([atom.sigma for atom in complex_structure])))\n",
    "\n",
    "print(dir(complex_structure.atoms[0]))\n",
    "#print(len(new_struct.LJ_types))\n",
    "#dir(pieces[0][0])\n",
    "\n",
    "\n",
    "#Ultimately we'd like to combine the protein and ligand and the water, which would probably be something like this:\n",
    "#complex_structure = pieces[0][0] + ligand_structure + pieces[2][0]*len(pieces[2][1])"
   ]
  },
  {
   "cell_type": "code",
   "execution_count": 12,
   "metadata": {},
   "outputs": [],
   "source": [
    "# For debug purposes we could try just this\n",
    "#complex_structure = ligand_structure\n",
    "\n",
    "# Export the Structure to AMBER files\n",
    "complex_structure.save('complex.prmtop', overwrite=True)\n",
    "complex_structure.save('complex.inpcrd', overwrite=True)\n",
    "\n",
    "# Export the Structure to Gromacs files\n",
    "complex_structure.save('complex.gro', overwrite=True)\n",
    "complex_structure.save('complex.top', overwrite=True)"
   ]
  },
  {
   "cell_type": "code",
   "execution_count": null,
   "metadata": {},
   "outputs": [],
   "source": []
  }
 ],
 "metadata": {
  "kernelspec": {
   "display_name": "Python 3",
   "language": "python",
   "name": "python3"
  },
  "language_info": {
   "codemirror_mode": {
    "name": "ipython",
    "version": 3
   },
   "file_extension": ".py",
   "mimetype": "text/x-python",
   "name": "python",
   "nbconvert_exporter": "python",
   "pygments_lexer": "ipython3",
   "version": "3.7.3"
  },
  "toc": {
   "nav_menu": {},
   "number_sections": true,
   "sideBar": true,
   "skip_h1_title": false,
   "toc_cell": false,
   "toc_position": {},
   "toc_section_display": "block",
   "toc_window_display": false
  }
 },
 "nbformat": 4,
 "nbformat_minor": 2
}
