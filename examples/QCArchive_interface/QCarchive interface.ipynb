{
 "cells": [
  {
   "cell_type": "markdown",
   "metadata": {},
   "source": [
    "# [WIP] QCArchive Interface \n",
    "\n",
    "Here we show how to create openforcefield molecules safely from data in the QCArchive using the cmiles entries, specifically we want to use the canonical_isomeric_explicit_hydrogen_mapped_smiles data which is metadata stored at the entry-level of a collection.\n",
    "\n",
    "First load up the client you wish to connect to, in this case, we use the public instance."
   ]
  },
  {
   "cell_type": "code",
   "execution_count": 1,
   "metadata": {},
   "outputs": [
    {
     "name": "stderr",
     "output_type": "stream",
     "text": [
      "RDKit WARNING: [12:37:46] Enabling RDKit 2019.09.2 jupyter extensions\n"
     ]
    },
    {
     "data": {
      "text/html": [
       "<div>\n",
       "<style scoped>\n",
       "    .dataframe tbody tr th:only-of-type {\n",
       "        vertical-align: middle;\n",
       "    }\n",
       "\n",
       "    .dataframe tbody tr th {\n",
       "        vertical-align: top;\n",
       "    }\n",
       "\n",
       "    .dataframe thead th {\n",
       "        text-align: right;\n",
       "    }\n",
       "</style>\n",
       "<table border=\"1\" class=\"dataframe\">\n",
       "  <thead>\n",
       "    <tr style=\"text-align: right;\">\n",
       "      <th></th>\n",
       "      <th></th>\n",
       "      <th>tagline</th>\n",
       "    </tr>\n",
       "    <tr>\n",
       "      <th>collection</th>\n",
       "      <th>name</th>\n",
       "      <th></th>\n",
       "    </tr>\n",
       "  </thead>\n",
       "  <tbody>\n",
       "    <tr>\n",
       "      <th rowspan=\"5\" valign=\"top\">Dataset</th>\n",
       "      <th>ANI-1</th>\n",
       "      <td>22 million off-equilibrium conformations and e...</td>\n",
       "    </tr>\n",
       "    <tr>\n",
       "      <th>COMP6 ANI-MD</th>\n",
       "      <td>Benchmark containing MD trajectories from the ...</td>\n",
       "    </tr>\n",
       "    <tr>\n",
       "      <th>COMP6 DrugBank</th>\n",
       "      <td>Benchmark containing DrugBank off-equilibrium ...</td>\n",
       "    </tr>\n",
       "    <tr>\n",
       "      <th>COMP6 GDB10to13</th>\n",
       "      <td>Benchmark containing off-equilibrium molecules...</td>\n",
       "    </tr>\n",
       "    <tr>\n",
       "      <th>COMP6 GDB7to9</th>\n",
       "      <td>Benchmark containing off-equilibrium molecules...</td>\n",
       "    </tr>\n",
       "    <tr>\n",
       "      <th>...</th>\n",
       "      <th>...</th>\n",
       "      <td>...</td>\n",
       "    </tr>\n",
       "    <tr>\n",
       "      <th rowspan=\"5\" valign=\"top\">TorsionDriveDataset</th>\n",
       "      <th>OpenFF Primary TorsionDrive Benchmark 1</th>\n",
       "      <td>None</td>\n",
       "    </tr>\n",
       "    <tr>\n",
       "      <th>OpenFF Substituted Phenyl Set 1</th>\n",
       "      <td>None</td>\n",
       "    </tr>\n",
       "    <tr>\n",
       "      <th>Pfizer Discrepancy Torsion Dataset 1</th>\n",
       "      <td>None</td>\n",
       "    </tr>\n",
       "    <tr>\n",
       "      <th>SMIRNOFF Coverage Torsion Set 1</th>\n",
       "      <td>None</td>\n",
       "    </tr>\n",
       "    <tr>\n",
       "      <th>TorsionDrive Paper</th>\n",
       "      <td>None</td>\n",
       "    </tr>\n",
       "  </tbody>\n",
       "</table>\n",
       "<p>89 rows × 1 columns</p>\n",
       "</div>"
      ],
      "text/plain": [
       "                                                                                                       tagline\n",
       "collection          name                                                                                      \n",
       "Dataset             ANI-1                                    22 million off-equilibrium conformations and e...\n",
       "                    COMP6 ANI-MD                             Benchmark containing MD trajectories from the ...\n",
       "                    COMP6 DrugBank                           Benchmark containing DrugBank off-equilibrium ...\n",
       "                    COMP6 GDB10to13                          Benchmark containing off-equilibrium molecules...\n",
       "                    COMP6 GDB7to9                            Benchmark containing off-equilibrium molecules...\n",
       "...                                                                                                        ...\n",
       "TorsionDriveDataset OpenFF Primary TorsionDrive Benchmark 1                                               None\n",
       "                    OpenFF Substituted Phenyl Set 1                                                       None\n",
       "                    Pfizer Discrepancy Torsion Dataset 1                                                  None\n",
       "                    SMIRNOFF Coverage Torsion Set 1                                                       None\n",
       "                    TorsionDrive Paper                                                                    None\n",
       "\n",
       "[89 rows x 1 columns]"
      ]
     },
     "execution_count": 1,
     "metadata": {},
     "output_type": "execute_result"
    }
   ],
   "source": [
    "import qcportal as ptl\n",
    "from openforcefield.topology import Molecule\n",
    "\n",
    "client= ptl.FractalClient()\n",
    "# list the collections available\n",
    "client.list_collections()"
   ]
  },
  {
   "cell_type": "markdown",
   "metadata": {},
   "source": [
    "Now let us grab a molecule from an optimization dataset"
   ]
  },
  {
   "cell_type": "code",
   "execution_count": 2,
   "metadata": {},
   "outputs": [],
   "source": [
    "ds = client.get_collection('OptimizationDataset', 'Kinase Inhibitors: WBO Distributions')"
   ]
  },
  {
   "cell_type": "markdown",
   "metadata": {},
   "source": [
    "Take the first entry from the collection. "
   ]
  },
  {
   "cell_type": "code",
   "execution_count": 3,
   "metadata": {},
   "outputs": [],
   "source": [
    "entry = ds.get_entry(ds.df.index[0])"
   ]
  },
  {
   "cell_type": "markdown",
   "metadata": {},
   "source": [
    "We can view the entry in detail by looking at the dictionary representation."
   ]
  },
  {
   "cell_type": "code",
   "execution_count": 4,
   "metadata": {},
   "outputs": [
    {
     "data": {
      "text/plain": [
       "{'name': 'Cc1ccc(cc1Nc2nccc(n2)c3cccnc3)NC(=O)c4ccc(cc4)CN5CCN(CC5)C-0',\n",
       " 'initial_molecule': '9589274',\n",
       " 'additional_keywords': {},\n",
       " 'attributes': {'canonical_explicit_hydrogen_smiles': '[H]c1c(c(c(nc1[H])[H])c2c(c(nc(n2)N([H])c3c(c(c(c(c3C([H])([H])[H])[H])[H])N([H])C(=O)c4c(c(c(c(c4[H])[H])C([H])([H])N5C(C(N(C(C5([H])[H])([H])[H])C([H])([H])[H])([H])[H])([H])[H])[H])[H])[H])[H])[H])[H]',\n",
       "  'canonical_isomeric_explicit_hydrogen_mapped_smiles': '[H:38][c:1]1[c:2]([c:14]([c:13]([n:30][c:11]1[H:48])[H:50])[c:20]2[c:9]([c:12]([n:31][c:21]([n:32]2)[N:35]([H:67])[c:19]3[c:10]([c:18]([c:8]([c:7]([c:17]3[C:27]([H:59])([H:60])[H:61])[H:44])[H:45])[N:36]([H:68])[C:22](=[O:37])[c:15]4[c:3]([c:5]([c:16]([c:6]([c:4]4[H:41])[H:43])[C:29]([H:65])([H:66])[N:34]5[C:25]([C:23]([N:33]([C:24]([C:26]5([H:57])[H:58])([H:53])[H:54])[C:28]([H:62])([H:63])[H:64])([H:51])[H:52])([H:55])[H:56])[H:42])[H:40])[H:47])[H:49])[H:46])[H:39]',\n",
       "  'canonical_isomeric_explicit_hydrogen_smiles': '[H]c1c(c(c(nc1[H])[H])c2c(c(nc(n2)N([H])c3c(c(c(c(c3C([H])([H])[H])[H])[H])N([H])C(=O)c4c(c(c(c(c4[H])[H])C([H])([H])N5C(C(N(C(C5([H])[H])([H])[H])C([H])([H])[H])([H])[H])([H])[H])[H])[H])[H])[H])[H])[H]',\n",
       "  'canonical_isomeric_smiles': 'Cc1ccc(cc1Nc2nccc(n2)c3cccnc3)NC(=O)c4ccc(cc4)CN5CCN(CC5)C',\n",
       "  'canonical_smiles': 'Cc1ccc(cc1Nc2nccc(n2)c3cccnc3)NC(=O)c4ccc(cc4)CN5CCN(CC5)C',\n",
       "  'inchi_key': 'KTUFNOKKBVMGRW-UHFFFAOYSA-N',\n",
       "  'molecular_formula': 'C29H31N7O',\n",
       "  'provenance': 'cmiles_v0.1.5+1.gdbd63e8_openeye_2019.Apr.2',\n",
       "  'standard_inchi': 'InChI=1S/C29H31N7O/c1-21-5-10-25(18-27(21)34-29-31-13-11-26(33-29)24-4-3-12-30-19-24)32-28(37)23-8-6-22(7-9-23)20-36-16-14-35(2)15-17-36/h3-13,18-19H,14-17,20H2,1-2H3,(H,32,37)(H,31,33,34)',\n",
       "  'unique_protomer_representation': 'Cc1ccc(cc1Nc2nccc(n2)c3cccnc3)NC(=O)c4ccc(cc4)CN5CCN(CC5)C',\n",
       "  'unique_tautomer_representation': 'Cc1ccc(NC(=O)c2ccc(CN3CCN(C)CC3)cc2)cc1N=c1nc(-c2cccnc2)cc[nH]1'},\n",
       " 'object_map': {'HF3c': '9425725', 'default': '9527898'}}"
      ]
     },
     "execution_count": 4,
     "metadata": {},
     "output_type": "execute_result"
    }
   ],
   "source": [
    "entry.dict()"
   ]
  },
  {
   "cell_type": "markdown",
   "metadata": {},
   "source": [
    "Now we can make a molecule using a few different input options."
   ]
  },
  {
   "cell_type": "code",
   "execution_count": 5,
   "metadata": {},
   "outputs": [],
   "source": [
    "# first make a molecule using this record object\n",
    "mol_record = Molecule.from_qcschema(entry)\n",
    "\n",
    "# we could have also used the dictionary representation of the object\n",
    "mol_dict = Molecule.from_qcschema(entry.dict(encoding='json'))"
   ]
  },
  {
   "cell_type": "code",
   "execution_count": 6,
   "metadata": {
    "scrolled": true
   },
   "outputs": [
    {
     "name": "stdout",
     "output_type": "stream",
     "text": [
      "6 6\n",
      "6 6\n",
      "6 6\n",
      "6 6\n",
      "6 6\n",
      "6 6\n",
      "6 6\n",
      "6 6\n",
      "6 6\n",
      "6 6\n",
      "6 6\n",
      "6 6\n",
      "6 6\n",
      "6 6\n",
      "6 6\n",
      "6 6\n",
      "6 6\n",
      "6 6\n",
      "6 6\n",
      "6 6\n",
      "6 6\n",
      "6 6\n",
      "6 6\n",
      "6 6\n",
      "6 6\n",
      "6 6\n",
      "6 6\n",
      "6 6\n",
      "6 6\n",
      "7 7\n",
      "7 7\n",
      "7 7\n",
      "7 7\n",
      "7 7\n",
      "7 7\n",
      "7 7\n",
      "8 8\n",
      "1 1\n",
      "1 1\n",
      "1 1\n",
      "1 1\n",
      "1 1\n",
      "1 1\n",
      "1 1\n",
      "1 1\n",
      "1 1\n",
      "1 1\n",
      "1 1\n",
      "1 1\n",
      "1 1\n",
      "1 1\n",
      "1 1\n",
      "1 1\n",
      "1 1\n",
      "1 1\n",
      "1 1\n",
      "1 1\n",
      "1 1\n",
      "1 1\n",
      "1 1\n",
      "1 1\n",
      "1 1\n",
      "1 1\n",
      "1 1\n",
      "1 1\n",
      "1 1\n",
      "1 1\n",
      "1 1\n"
     ]
    }
   ],
   "source": [
    "# we check that the molecule has been ordered to match the ordering used in the data base\n",
    "# by printing out the atomic numbers of both objects in order\n",
    "\n",
    "# first lets get the initial molecule from the database\n",
    "initial_mol = client.query_molecules(id=entry.initial_molecule)[0]\n",
    "\n",
    "for atoms in zip(mol_record.atoms, initial_mol.atomic_numbers):\n",
    "    print(atoms[0].atomic_number, atoms[1])\n",
    "\n",
    "# we can also check that the molecules are the same regardless of how they are made \n",
    "assert mol_dict == mol_record"
   ]
  },
  {
   "cell_type": "code",
   "execution_count": 7,
   "metadata": {},
   "outputs": [
    {
     "name": "stdout",
     "output_type": "stream",
     "text": [
      "True\n",
      "{0: 0, 1: 1, 2: 2, 3: 3, 4: 4, 5: 5, 6: 6, 7: 7, 8: 8, 9: 9, 10: 10, 11: 11, 12: 12, 13: 13, 14: 14, 15: 15, 16: 16, 17: 17, 18: 18, 19: 19, 20: 20, 21: 21, 22: 22, 23: 23, 24: 24, 25: 25, 26: 26, 27: 27, 28: 28, 29: 29, 30: 30, 31: 31, 32: 32, 33: 33, 34: 34, 35: 35, 36: 36, 37: 37, 38: 38, 39: 39, 40: 40, 41: 41, 42: 42, 43: 43, 44: 44, 45: 45, 46: 46, 47: 47, 48: 48, 49: 49, 50: 50, 51: 51, 52: 52, 53: 53, 54: 54, 55: 55, 56: 56, 57: 57, 58: 58, 59: 59, 60: 60, 61: 61, 62: 62, 63: 63, 64: 64, 65: 65, 66: 66, 67: 67}\n"
     ]
    }
   ],
   "source": [
    "# we can also compare the graph representations of the molecules to make sure they are in the same order\n",
    "import networkx as nx\n",
    "\n",
    "# make a graph of the initial molecule using newtorkx and the data in the record\n",
    "initial_network = nx.Graph()\n",
    "for i, atom_num in enumerate(initial_mol.atomic_numbers):\n",
    "    initial_network.add_node(i, atomic_number=atom_num)\n",
    "    \n",
    "for bond in initial_mol.connectivity:\n",
    "    initial_network.add_edge(*bond[:2])\n",
    "# now we can use the new isomorphic check to get the atom mapping\n",
    "isomorphic, atom_map = Molecule.are_isomorphic(mol_record, \n",
    "                                               initial_network, \n",
    "                                               return_atom_map=True,\n",
    "                                               aromatic_matching=False,\n",
    "                                               formal_charge_matching=False,\n",
    "                                               bond_order_matching=False,\n",
    "                                               bond_stereochemistry_matching=False,\n",
    "                                               atom_stereochemistry_matching=False)\n",
    "\n",
    "# we can print if the graph was found to be isomorphic and then the atom mapping\n",
    "# the atoms are in the same order here as the idexes are the same in the mapping\n",
    "print(isomorphic)\n",
    "print(atom_map)"
   ]
  },
  {
   "cell_type": "markdown",
   "metadata": {},
   "source": [
    "Now we have seen how to make the moleucle lets look at also getting the geometry as currently we have none."
   ]
  },
  {
   "cell_type": "code",
   "execution_count": 8,
   "metadata": {},
   "outputs": [
    {
     "data": {
      "text/plain": [
       "1"
      ]
     },
     "execution_count": 8,
     "metadata": {},
     "output_type": "execute_result"
    }
   ],
   "source": [
    "# check there is no geometry for the molecule\n",
    "assert mol_record.n_conformers == 0\n",
    "\n",
    "# if we also want the input geometry for the molecule, we just need to pass the relavent client instance\n",
    "mol_dict = Molecule.from_qcschema(entry.dict(encoding='json'), client=client)\n",
    "\n",
    "# check that there is a conformation\n",
    "mol_dict.n_conformers"
   ]
  },
  {
   "cell_type": "code",
   "execution_count": 9,
   "metadata": {},
   "outputs": [
    {
     "data": {
      "application/vnd.jupyter.widget-view+json": {
       "model_id": "e91172a96a4d4b24bfedae7d02beabc2",
       "version_major": 2,
       "version_minor": 0
      },
      "text/plain": [
       "_ColormakerRegistry()"
      ]
     },
     "metadata": {},
     "output_type": "display_data"
    },
    {
     "data": {
      "application/vnd.jupyter.widget-view+json": {
       "model_id": "837c3452f8944703995a68a15ea9e9cb",
       "version_major": 2,
       "version_minor": 0
      },
      "text/plain": [
       "NGLWidget()"
      ]
     },
     "metadata": {},
     "output_type": "display_data"
    }
   ],
   "source": [
    "# thanks to the qcscehma method we also get visulisation for free, along with being able to compute\n",
    "# properties like energy, gradient and hessian with qcgengine using QM,rdkit, openmm, or ani1\n",
    "mol_dict.to_qcschema()"
   ]
  },
  {
   "cell_type": "markdown",
   "metadata": {},
   "source": [
    "Here we will try and compute the energy using RDKit, only run this cell if RDKit and qcengine is installed. "
   ]
  },
  {
   "cell_type": "code",
   "execution_count": 14,
   "metadata": {},
   "outputs": [
    {
     "data": {
      "text/plain": [
       "0.053473234080915956"
      ]
     },
     "execution_count": 14,
     "metadata": {},
     "output_type": "execute_result"
    }
   ],
   "source": [
    "# for example this molecules energy can be computed using ANI1 as follows (note only HCNO are included in ANI1)\n",
    "import qcengine\n",
    "\n",
    "# set up the ani task\n",
    "rdkit_task = {\"schema_name\": \"qcschema_input\",\n",
    "            \"schema_version\": 2,\n",
    "            \"molecule\": mol_dict.to_qcschema(),\n",
    "            \"driver\": \"energy\",\n",
    "            \"model\": {\"method\": 'UFF', \"basis\": None},\n",
    "            \"keywords\": {\"scf_type\": \"df\"}}\n",
    "\n",
    "# now lets compute the energy using qcengine and RDKit and print the result\n",
    "qcengine.compute(rdkit_task, 'rdkit').return_result"
   ]
  },
  {
   "cell_type": "markdown",
   "metadata": {},
   "source": [
    "# Adding Final conformations\n",
    "\n",
    "This is an example of ideas on how we might safely add conformations from optimization trajectories or final molecule conformations.\n",
    "\n",
    "## The problem\n",
    "\n",
    "During optimization, connectivity can change, and as the connection records are just propagated from the input structure they are unreliable sources from which to create OFFMOls. So we now have WBO calculated on many datasets like this one which could be used to infer connectivity and check that the conformer is still valid for the input connectivity.\n",
    "\n",
    "At the entry-level we also have two different final molecules depending on the running settings lets start with how to attach the final molecule from the default run."
   ]
  },
  {
   "cell_type": "code",
   "execution_count": 15,
   "metadata": {},
   "outputs": [],
   "source": [
    "# load up the optimization record\n",
    "opt_default = client.query_procedures(id=9527898)[0]"
   ]
  },
  {
   "cell_type": "code",
   "execution_count": 16,
   "metadata": {},
   "outputs": [
    {
     "data": {
      "text/plain": [
       "{'id': '9527898',\n",
       " 'hash_index': 'dc5a29efea828dd45763a2fca034f56b98e481ab',\n",
       " 'procedure': 'optimization',\n",
       " 'program': 'geometric',\n",
       " 'version': 1,\n",
       " 'protocols': {},\n",
       " 'extras': {},\n",
       " 'stdout': '13566247',\n",
       " 'stderr': None,\n",
       " 'error': None,\n",
       " 'task_id': None,\n",
       " 'manager_name': 'lilac_multithread-lt19-70eff68f-502c-4deb-91b8-f5b373b646ef',\n",
       " 'status': <RecordStatusEnum.complete: 'COMPLETE'>,\n",
       " 'modified_on': datetime.datetime(2019, 12, 29, 2, 39, 7, 482239),\n",
       " 'created_on': datetime.datetime(2019, 12, 8, 17, 1, 5, 552791),\n",
       " 'provenance': {'creator': 'geomeTRIC',\n",
       "  'version': '0.9.7.2',\n",
       "  'routine': 'geometric.run_json.geometric_run_json',\n",
       "  'username': 'chodera',\n",
       "  'wall_time': 10380.749236822128,\n",
       "  'qcengine_version': 'v0.13.0',\n",
       "  'hostname': 'lt19',\n",
       "  'cpu': 'Intel(R) Xeon(R) CPU E5-2697 v4 @ 2.30GHz'},\n",
       " 'schema_version': 1,\n",
       " 'initial_molecule': '9589274',\n",
       " 'qc_spec': {'driver': <DriverEnum.gradient: 'gradient'>,\n",
       "  'method': 'b3lyp-d3(bj)',\n",
       "  'basis': 'dzvp',\n",
       "  'keywords': '2',\n",
       "  'program': 'psi4'},\n",
       " 'keywords': {'coordsys': 'tric',\n",
       "  'enforce': 0.1,\n",
       "  'reset': True,\n",
       "  'qccnv': True,\n",
       "  'epsilon': 0,\n",
       "  'program': 'psi4'},\n",
       " 'energies': [-1582.5434685931764,\n",
       "  -1582.5518107358582,\n",
       "  -1582.5549400759105,\n",
       "  -1582.5578895115164,\n",
       "  -1582.5585704887935,\n",
       "  -1582.5599500933783,\n",
       "  -1582.5604402497527,\n",
       "  -1582.561208171845,\n",
       "  -1582.5622690744801,\n",
       "  -1582.562843718009,\n",
       "  -1582.5638537926047,\n",
       "  -1582.563747586501,\n",
       "  -1582.564616148151,\n",
       "  -1582.5648284040735,\n",
       "  -1582.5652503110955,\n",
       "  -1582.5654271281912,\n",
       "  -1582.5655689085468,\n",
       "  -1582.5656273217785,\n",
       "  -1582.5658153601632,\n",
       "  -1582.5660794460694,\n",
       "  -1582.566205660537,\n",
       "  -1582.5663316347477,\n",
       "  -1582.5663457778792,\n",
       "  -1582.5663841605467,\n",
       "  -1582.5663927339003,\n",
       "  -1582.5663946619097,\n",
       "  -1582.5664009506743,\n",
       "  -1582.5664012238194],\n",
       " 'final_molecule': '10471624',\n",
       " 'trajectory': ['13497357',\n",
       "  '13497358',\n",
       "  '13497359',\n",
       "  '13497360',\n",
       "  '13497361',\n",
       "  '13497362',\n",
       "  '13497363',\n",
       "  '13497364',\n",
       "  '13497365',\n",
       "  '13497366',\n",
       "  '13497367',\n",
       "  '13497368',\n",
       "  '13497369',\n",
       "  '13497370',\n",
       "  '13497371',\n",
       "  '13497372',\n",
       "  '13497373',\n",
       "  '13497374',\n",
       "  '13497375',\n",
       "  '13497376',\n",
       "  '13497377',\n",
       "  '13497378',\n",
       "  '13497379',\n",
       "  '13497380',\n",
       "  '13497381',\n",
       "  '13497382',\n",
       "  '13497383',\n",
       "  '13497384']}"
      ]
     },
     "execution_count": 16,
     "metadata": {},
     "output_type": "execute_result"
    }
   ],
   "source": [
    "# look at the details of the job\n",
    "opt_default.dict()"
   ]
  },
  {
   "cell_type": "code",
   "execution_count": 17,
   "metadata": {},
   "outputs": [
    {
     "data": {
      "application/vnd.jupyter.widget-view+json": {
       "model_id": "0a2298ea3586468184e7f40592ad6463",
       "version_major": 2,
       "version_minor": 0
      },
      "text/plain": [
       "NGLWidget()"
      ]
     },
     "metadata": {},
     "output_type": "display_data"
    }
   ],
   "source": [
    "# look at the final molecule\n",
    "opt_default.get_final_molecule()"
   ]
  },
  {
   "cell_type": "code",
   "execution_count": 29,
   "metadata": {},
   "outputs": [],
   "source": [
    "# this conformation looks valid but we should check it using the WBO that was calculated\n",
    "# grab the last gradient calculation from the traj\n",
    "last_calc = opt_default.get_trajectory()[-1]"
   ]
  },
  {
   "cell_type": "code",
   "execution_count": 30,
   "metadata": {},
   "outputs": [],
   "source": [
    "# make sure this was done on the final geometry\n",
    "assert last_calc.molecule == opt_default.final_molecule"
   ]
  },
  {
   "cell_type": "code",
   "execution_count": 31,
   "metadata": {},
   "outputs": [],
   "source": [
    "# now lets grab the flat WBO list\n",
    "wbo = last_calc.extras['qcvars']['WIBERG_LOWDIN_INDICES']"
   ]
  },
  {
   "cell_type": "code",
   "execution_count": 32,
   "metadata": {},
   "outputs": [],
   "source": [
    "# now form it into an NXN array where N is the number of atoms in the molecule\n",
    "import numpy as np\n",
    "\n",
    "wbo_array = np.array(wbo).reshape(-1, mol_dict.n_atoms)"
   ]
  },
  {
   "cell_type": "code",
   "execution_count": 33,
   "metadata": {},
   "outputs": [
    {
     "data": {
      "text/plain": [
       "array([[0.00000000e+00, 1.55415073e+00, 5.49124559e-05, ...,\n",
       "        6.15653758e-07, 3.55044068e-06, 7.37668585e-06],\n",
       "       [1.55415073e+00, 0.00000000e+00, 1.10352077e-04, ...,\n",
       "        6.56349635e-07, 2.68150435e-05, 1.63365792e-05],\n",
       "       [5.49124559e-05, 1.10352077e-04, 0.00000000e+00, ...,\n",
       "        1.05862549e-03, 4.17623676e-06, 9.79195744e-03],\n",
       "       ...,\n",
       "       [6.15653758e-07, 6.56349635e-07, 1.05862549e-03, ...,\n",
       "        0.00000000e+00, 1.12429462e-08, 5.70559477e-06],\n",
       "       [3.55044068e-06, 2.68150435e-05, 4.17623676e-06, ...,\n",
       "        1.12429462e-08, 0.00000000e+00, 2.41934552e-05],\n",
       "       [7.37668585e-06, 1.63365792e-05, 9.79195744e-03, ...,\n",
       "        5.70559477e-06, 2.41934552e-05, 0.00000000e+00]])"
      ]
     },
     "execution_count": 33,
     "metadata": {},
     "output_type": "execute_result"
    }
   ],
   "source": [
    "wbo_array"
   ]
  },
  {
   "cell_type": "code",
   "execution_count": 34,
   "metadata": {},
   "outputs": [],
   "source": [
    "# now lets make a function which can build a graphical representation of this array \n",
    "# which we can check is the same as our molecule. \n",
    "import networkx as nx\n",
    "from simtk.openmm.app import Element\n",
    "\n",
    "\n",
    "# NOTE we have to define some cutoff which a wbo below would not be defined as a bond\n",
    "def get_conection_graph(molecule_record, wbo_array, wbo_cutoff):\n",
    "    \"use the molecule record and wbo_array to build a graph of the molecule\"\n",
    "    \n",
    "    # loop through the array and create a set of conections\n",
    "    conections = set()\n",
    "    for i in range(wbo_array.shape[0]):\n",
    "        for j in range(wbo_array.shape[1]):\n",
    "            if wbo_array[i, j] >= wbo_cutoff:\n",
    "                if (j, i) in conections:\n",
    "                    continue\n",
    "                else:\n",
    "                    conections.add((i, j))\n",
    "                        \n",
    "    # build a networkx representatation of the molecule\n",
    "    topology = nx.Graph()\n",
    "    for i, symbol in enumerate(molecule_record.symbols):\n",
    "        topology.add_node(i, atomic_number=Element.getBySymbol(symbol).atomic_number)\n",
    "\n",
    "    for bond in conections:\n",
    "        topology.add_edge(bond[0], bond[1])\n",
    "            \n",
    "    return topology"
   ]
  },
  {
   "cell_type": "code",
   "execution_count": 35,
   "metadata": {},
   "outputs": [],
   "source": [
    "# Now use the function to generate a graph of the final molecule, using a cutoff of 0.8\n",
    "final_mol_graph = get_conection_graph(opt_default.get_final_molecule(), wbo_array, 0.8)"
   ]
  },
  {
   "cell_type": "code",
   "execution_count": 36,
   "metadata": {},
   "outputs": [],
   "source": [
    "# Use the new isomorphic function to check if the networkx graph is isomorphic of the molecule \n",
    "# the network only has atomic numbers and conections so turn of all retrictive matching \n",
    "isomorphic, _ = Molecule.are_isomorphic(mol_dict, \n",
    "                                       final_mol_graph, \n",
    "                                       return_atom_map=False, \n",
    "                                       atom_stereochemistry_matching=False, \n",
    "                                       bond_stereochemistry_matching=False, \n",
    "                                       aromatic_matching=False,\n",
    "                                       bond_order_matching=False,\n",
    "                                       formal_charge_matching=False)"
   ]
  },
  {
   "cell_type": "code",
   "execution_count": 37,
   "metadata": {},
   "outputs": [
    {
     "data": {
      "text/plain": [
       "False"
      ]
     },
     "execution_count": 37,
     "metadata": {},
     "output_type": "execute_result"
    }
   ],
   "source": [
    "# now if we check we see that the graph is not the same at this cutoff and the conformer would be rejected\n",
    "isomorphic"
   ]
  },
  {
   "cell_type": "code",
   "execution_count": 38,
   "metadata": {},
   "outputs": [
    {
     "name": "stdout",
     "output_type": "stream",
     "text": [
      "True\n"
     ]
    }
   ],
   "source": [
    "# we could of course lower this requirement and try again\n",
    "final_mol_graph = get_conection_graph(opt_default.get_final_molecule(), wbo_array, 0.75)\n",
    "isomorphic, _ = Molecule.are_isomorphic(mol_dict, \n",
    "                                       final_mol_graph, \n",
    "                                       return_atom_map=False, \n",
    "                                       atom_stereochemistry_matching=False, \n",
    "                                       bond_stereochemistry_matching=False, \n",
    "                                       aromatic_matching=False,\n",
    "                                       bond_order_matching=False,\n",
    "                                       formal_charge_matching=False)\n",
    "print(isomorphic)"
   ]
  },
  {
   "cell_type": "markdown",
   "metadata": {},
   "source": [
    "The molecule conformer would now be accepted and could be safely added to the molecule.\n",
    "\n",
    "## How do we automate this/ should we automate this?\n",
    "\n",
    "If this was to be added to the method to make molecules from the qcarchive we would require some extra keyword arguments that would control how we handle entries with multiple procedures in the object map and may look something like "
   ]
  },
  {
   "cell_type": "code",
   "execution_count": 18,
   "metadata": {
    "collapsed": true
   },
   "outputs": [
    {
     "ename": "NameError",
     "evalue": "name 'mol' is not defined",
     "output_type": "error",
     "traceback": [
      "\u001b[0;31m---------------------------------------------------------------------------\u001b[0m",
      "\u001b[0;31mNameError\u001b[0m                                 Traceback (most recent call last)",
      "\u001b[0;32m<ipython-input-18-7e60f9db06e9>\u001b[0m in \u001b[0;36m<module>\u001b[0;34m\u001b[0m\n\u001b[0;32m----> 1\u001b[0;31m \u001b[0mmol\u001b[0m\u001b[0;34m.\u001b[0m\u001b[0mfrom_qcschema\u001b[0m\u001b[0;34m(\u001b[0m\u001b[0mentry_instance\u001b[0m\u001b[0;34m/\u001b[0m\u001b[0mdict\u001b[0m\u001b[0;34m,\u001b[0m \u001b[0mclient\u001b[0m\u001b[0;34m=\u001b[0m\u001b[0;32mNone\u001b[0m\u001b[0;34m,\u001b[0m \u001b[0mattach_final_molecules\u001b[0m\u001b[0;34m=\u001b[0m\u001b[0;32mFalse\u001b[0m\u001b[0;34m,\u001b[0m \u001b[0mwbo_cutoff\u001b[0m\u001b[0;34m=\u001b[0m\u001b[0;36m0.75\u001b[0m\u001b[0;34m,\u001b[0m \u001b[0mspec_name\u001b[0m\u001b[0;34m=\u001b[0m\u001b[0;34m'default'\u001b[0m\u001b[0;34m)\u001b[0m\u001b[0;34m\u001b[0m\u001b[0;34m\u001b[0m\u001b[0m\n\u001b[0m",
      "\u001b[0;31mNameError\u001b[0m: name 'mol' is not defined"
     ]
    }
   ],
   "source": [
    "mol.from_qcschema(entry_instance/dict, client=None, attach_final_molecules=False, wbo_cutoff=0.75, spec_name='default')"
   ]
  },
  {
   "cell_type": "markdown",
   "metadata": {},
   "source": [
    "or the spec_name could be accepted in attach_final_molecules_from with None as the default, which will not gather any finial molecules"
   ]
  },
  {
   "cell_type": "code",
   "execution_count": 19,
   "metadata": {
    "collapsed": true
   },
   "outputs": [
    {
     "ename": "NameError",
     "evalue": "name 'mol' is not defined",
     "output_type": "error",
     "traceback": [
      "\u001b[0;31m---------------------------------------------------------------------------\u001b[0m",
      "\u001b[0;31mNameError\u001b[0m                                 Traceback (most recent call last)",
      "\u001b[0;32m<ipython-input-19-a1b014b9f495>\u001b[0m in \u001b[0;36m<module>\u001b[0;34m\u001b[0m\n\u001b[0;32m----> 1\u001b[0;31m \u001b[0mmol\u001b[0m\u001b[0;34m.\u001b[0m\u001b[0mfrom_qcschema\u001b[0m\u001b[0;34m(\u001b[0m\u001b[0mentry_instance\u001b[0m\u001b[0;34m/\u001b[0m\u001b[0mdict\u001b[0m\u001b[0;34m,\u001b[0m \u001b[0mclient\u001b[0m\u001b[0;34m=\u001b[0m\u001b[0;32mNone\u001b[0m\u001b[0;34m,\u001b[0m \u001b[0mattach_final_molecules\u001b[0m\u001b[0;34m=\u001b[0m\u001b[0;32mNone\u001b[0m\u001b[0;34m,\u001b[0m \u001b[0mwbo_cutoff\u001b[0m\u001b[0;34m=\u001b[0m\u001b[0;36m0.75\u001b[0m\u001b[0;34m)\u001b[0m\u001b[0;34m\u001b[0m\u001b[0;34m\u001b[0m\u001b[0m\n\u001b[0m",
      "\u001b[0;31mNameError\u001b[0m: name 'mol' is not defined"
     ]
    }
   ],
   "source": [
    "mol.from_qcschema(entry_instance/dict, client=None, attach_final_molecules_from=None, wbo_cutoff=0.75)"
   ]
  },
  {
   "cell_type": "markdown",
   "metadata": {},
   "source": [
    "then to pull final molecules from the 'default' run"
   ]
  },
  {
   "cell_type": "code",
   "execution_count": 20,
   "metadata": {
    "collapsed": true
   },
   "outputs": [
    {
     "ename": "NameError",
     "evalue": "name 'mol' is not defined",
     "output_type": "error",
     "traceback": [
      "\u001b[0;31m---------------------------------------------------------------------------\u001b[0m",
      "\u001b[0;31mNameError\u001b[0m                                 Traceback (most recent call last)",
      "\u001b[0;32m<ipython-input-20-1d7ae2636bd5>\u001b[0m in \u001b[0;36m<module>\u001b[0;34m\u001b[0m\n\u001b[0;32m----> 1\u001b[0;31m \u001b[0mmol\u001b[0m\u001b[0;34m.\u001b[0m\u001b[0mfrom_qcschema\u001b[0m\u001b[0;34m(\u001b[0m\u001b[0mentry_instance\u001b[0m\u001b[0;34m/\u001b[0m\u001b[0mdict\u001b[0m\u001b[0;34m,\u001b[0m \u001b[0mclient\u001b[0m\u001b[0;34m=\u001b[0m\u001b[0;32mNone\u001b[0m\u001b[0;34m,\u001b[0m \u001b[0mattach_final_molecules\u001b[0m\u001b[0;34m=\u001b[0m\u001b[0;34m'default'\u001b[0m\u001b[0;34m,\u001b[0m \u001b[0mwbo_cutoff\u001b[0m\u001b[0;34m=\u001b[0m\u001b[0;36m0.75\u001b[0m\u001b[0;34m)\u001b[0m\u001b[0;34m\u001b[0m\u001b[0;34m\u001b[0m\u001b[0m\n\u001b[0m",
      "\u001b[0;31mNameError\u001b[0m: name 'mol' is not defined"
     ]
    }
   ],
   "source": [
    "mol.from_qcschema(entry_instance/dict, client=None, attach_final_molecules_from='default', wbo_cutoff=0.75)"
   ]
  },
  {
   "cell_type": "markdown",
   "metadata": {},
   "source": [
    "or we could extend the add_conformer API to accept optimisation or torsionDrive records"
   ]
  },
  {
   "cell_type": "code",
   "execution_count": 21,
   "metadata": {
    "collapsed": true
   },
   "outputs": [
    {
     "ename": "NameError",
     "evalue": "name 'mol' is not defined",
     "output_type": "error",
     "traceback": [
      "\u001b[0;31m---------------------------------------------------------------------------\u001b[0m",
      "\u001b[0;31mNameError\u001b[0m                                 Traceback (most recent call last)",
      "\u001b[0;32m<ipython-input-21-a208fca41456>\u001b[0m in \u001b[0;36m<module>\u001b[0;34m\u001b[0m\n\u001b[0;32m----> 1\u001b[0;31m \u001b[0mmol\u001b[0m\u001b[0;34m.\u001b[0m\u001b[0madd_conformer\u001b[0m\u001b[0;34m(\u001b[0m\u001b[0mopt\u001b[0m\u001b[0;34m/\u001b[0m\u001b[0mtorsiondrive_record\u001b[0m\u001b[0;34m,\u001b[0m \u001b[0mwbo_cutoff\u001b[0m\u001b[0;34m=\u001b[0m\u001b[0;36m0.75\u001b[0m\u001b[0;34m)\u001b[0m\u001b[0;34m\u001b[0m\u001b[0;34m\u001b[0m\u001b[0m\n\u001b[0m",
      "\u001b[0;31mNameError\u001b[0m: name 'mol' is not defined"
     ]
    }
   ],
   "source": [
    "mol.add_conformer(opt/torsiondrive_record, wbo_cutoff=0.75)"
   ]
  },
  {
   "cell_type": "markdown",
   "metadata": {},
   "source": [
    "In this case, we do not have to worry about the spec name as the user will supply a record of the spec they want all we have to do is gather the final molecules and build their graphs from the WBO and compare the connectivity if it does not match we can throw an error about trying to attach an invalid conformer."
   ]
  },
  {
   "cell_type": "code",
   "execution_count": null,
   "metadata": {},
   "outputs": [],
   "source": []
  }
 ],
 "metadata": {
  "kernelspec": {
   "display_name": "Python 3",
   "language": "python",
   "name": "python3"
  },
  "language_info": {
   "codemirror_mode": {
    "name": "ipython",
    "version": 3
   },
   "file_extension": ".py",
   "mimetype": "text/x-python",
   "name": "python",
   "nbconvert_exporter": "python",
   "pygments_lexer": "ipython3",
   "version": "3.7.5"
  }
 },
 "nbformat": 4,
 "nbformat_minor": 4
}
