{
 "cells": [
  {
   "cell_type": "markdown",
   "metadata": {},
   "source": [
    "# Loading and modifying a SMIRNOFF forcefield\n",
    "\n",
    "This notebook illustrates how to load a SMIRNOFF forcefield, apply it to an example molecule, get the energy, then manipulate the parameters in the forcefield and update the energy.\n",
    "\n",
    "## Prep some utility functions/import stuff"
   ]
  },
  {
   "cell_type": "code",
   "execution_count": 1,
   "metadata": {},
   "outputs": [],
   "source": [
    "# Imports needed\n",
    "from openforcefield.topology import Molecule, Topology\n",
    "from openforcefield.typing.engines.smirnoff.forcefield import ForceField\n",
    "from openforcefield.utils import get_data_filename\n",
    "from simtk import openmm, unit\n",
    "import numpy as np"
   ]
  },
  {
   "cell_type": "code",
   "execution_count": 2,
   "metadata": {},
   "outputs": [],
   "source": [
    "# Define utility function we'll use to get energy of an OpenMM system\n",
    "def get_energy(system, positions):\n",
    "    \"\"\"\n",
    "    Return the potential energy.\n",
    "\n",
    "    Parameters\n",
    "    ----------\n",
    "    system : simtk.openmm.System\n",
    "        The system to check\n",
    "    positions : simtk.unit.Quantity of dimension (natoms,3) with units of length\n",
    "        The positions to use\n",
    "    Returns\n",
    "    ---------\n",
    "    energy\n",
    "    \"\"\"\n",
    "\n",
    "    integrator = openmm.VerletIntegrator(1.0 * unit.femtoseconds)\n",
    "    context = openmm.Context(system, integrator)\n",
    "    context.setPositions(positions)\n",
    "    state = context.getState(getEnergy=True)\n",
    "    energy = state.getPotentialEnergy().in_units_of(unit.kilocalories_per_mole)\n",
    "    return energy"
   ]
  },
  {
   "cell_type": "markdown",
   "metadata": {},
   "source": [
    "## Example 1: Load a molecule and evaluate its energy before and after a parameter modification\n",
    "\n",
    "In this example, we load a single ethanol molecule with geometry information, parameterize it using the smirnoff99Frosst forcefield, and evaluate its energy. We then modify the parameter that is applied to the C-O-H angle and re-evaluate the energy."
   ]
  },
  {
   "cell_type": "code",
   "execution_count": 3,
   "metadata": {},
   "outputs": [
    {
     "name": "stdout",
     "output_type": "stream",
     "text": [
      "Original energy: -0.27712854782892227 kcal/mol. New energy: 3.318374972954307 kcal/mol\n"
     ]
    }
   ],
   "source": [
    "# Load a molecule\n",
    "from openforcefield.tests.utils import get_alkethoh_filepath\n",
    "#molecule = Molecule.from_file(get_alkethoh_filepath('AlkEthOH_c100'))\n",
    "molecule = Molecule.from_file(get_data_filename('molecules/ethanol.mol2'))\n",
    "\n",
    "#Get positions for use below\n",
    "positions = molecule.conformers[0]\n",
    "\n",
    "# Load forcefield file\n",
    "ff = ForceField('smirnoff99Frosst.offxml')\n",
    "\n",
    "# Generate an openforcefield Topology containing only this molecule\n",
    "topology = molecule.to_topology()\n",
    "\n",
    "# Create initial system\n",
    "orig_system = ff.create_openmm_system(topology)\n",
    "\n",
    "# Get initial energy before parameter modification\n",
    "orig_energy = get_energy(orig_system, positions)\n",
    "\n",
    "# Get params for an angle\n",
    "smirks = '[*:1]-[#8:2]-[*:3]' # SMIRKS for the parameter to retrieve\n",
    "parameter = ff.get_handler('Angles').parameters[smirks]\n",
    "\n",
    "# Modify the parameters\n",
    "parameter.k *= 0.9\n",
    "parameter.angle *= 1.1\n",
    "\n",
    "# Evaluate energy after parameter modification\n",
    "new_system = ff.create_openmm_system(topology)\n",
    "new_energy = get_energy(new_system, positions)\n",
    "\n",
    "# Print out energy\n",
    "print(f\"Original energy: {orig_energy}. New energy: {new_energy}\")"
   ]
  },
  {
   "cell_type": "markdown",
   "metadata": {},
   "source": [
    "## Inspect and manipulate parameters"
   ]
  },
  {
   "cell_type": "code",
   "execution_count": 4,
   "metadata": {},
   "outputs": [],
   "source": [
    "# Create a new ForceField containing the smirnoff99Frosst parameter set:\n",
    "\n",
    "forcefield = ForceField('smirnoff99Frosst.offxml')"
   ]
  },
  {
   "cell_type": "code",
   "execution_count": 5,
   "metadata": {},
   "outputs": [],
   "source": [
    "# Create an OpenMM system from a :class:`openforcefield.topology.Topology` object:\n",
    "molecules = [Molecule.from_smiles('CCO'),\n",
    "             Molecule.from_smiles('HOH')]\n",
    "from simtk.openmm import app\n",
    "pdbfile = app.PDBFile(get_data_filename('systems/packmol_boxes/ethanol_water.pdb'))\n",
    "top = Topology.from_openmm(pdbfile.topology, unique_molecules=molecules)\n",
    "orig_system = forcefield.create_openmm_system(top)\n",
    "orig_energy = get_energy(orig_system, pdbfile.getPositions())"
   ]
  },
  {
   "cell_type": "code",
   "execution_count": 6,
   "metadata": {},
   "outputs": [
    {
     "name": "stdout",
     "output_type": "stream",
     "text": [
      "<vdWType with smirks: [#1:1]  epsilon: 0.0157 kcal/mol  id: n1  sigma: 1.069078461768407 A  >\n",
      "<vdWType with smirks: [#1:1]-[#6X4]  epsilon: 0.0157 kcal/mol  id: n2  sigma: 2.649532787749369 A  >\n",
      "<vdWType with smirks: [#1:1]-[#6X4]-[#7,#8,#9,#16,#17,#35]  epsilon: 0.0157 kcal/mol  id: n3  sigma: 2.471353044121301 A  >\n",
      "Original energy: -6216.464064995574 kcal/mol. New energy: -32426.412374521988 kcal/mol\n"
     ]
    }
   ],
   "source": [
    "\n",
    "# Modify the long-range van der Waals method to be PME:\n",
    "\n",
    "forcefield.get_handler('vdW').method = 'PME'\n",
    "\n",
    "# Inspect the first few vdW parameters:\n",
    "for vdw_param in forcefield.get_handler('vdW').parameters[0:3]:\n",
    "    print(vdw_param)\n",
    "\n",
    "new_system = forcefield.create_openmm_system(top)\n",
    "new_energy = get_energy(new_system, pdbfile.getPositions())\n",
    "\n",
    "print(f\"Original energy: {orig_energy}. New energy: {new_energy}\")"
   ]
  },
  {
   "cell_type": "code",
   "execution_count": 19,
   "metadata": {},
   "outputs": [
    {
     "name": "stdout",
     "output_type": "stream",
     "text": [
      "Original energy: 36804319804003.164 kcal/mol. New energy: nan kcal/mol\n"
     ]
    }
   ],
   "source": [
    "orig_energy = get_energy(orig_system, pdbfile.getPositions())#/10.)\n",
    "new_energy = get_energy(new_system, pdbfile.getPositions())#/10.)\n",
    "print(f\"Original energy: {orig_energy}. New energy: {new_energy}\")"
   ]
  },
  {
   "cell_type": "code",
   "execution_count": 24,
   "metadata": {},
   "outputs": [
    {
     "name": "stdout",
     "output_type": "stream",
     "text": [
      "[Quantity(value=Vec3(x=2.0, y=0.0, z=0.0), unit=nanometer), Quantity(value=Vec3(x=0.0, y=2.0, z=0.0), unit=nanometer), Quantity(value=Vec3(x=0.0, y=0.0, z=2.0), unit=nanometer)]\n",
      "True\n"
     ]
    }
   ],
   "source": [
    "print(new_system.getDefaultPeriodicBoxVectors())\n",
    "print(new_system.usesPeriodicBoundaryConditions())"
   ]
  },
  {
   "cell_type": "code",
   "execution_count": null,
   "metadata": {},
   "outputs": [],
   "source": []
  }
 ],
 "metadata": {
  "kernelspec": {
   "display_name": "Python 3",
   "language": "python",
   "name": "python3"
  },
  "language_info": {
   "codemirror_mode": {
    "name": "ipython",
    "version": 3
   },
   "file_extension": ".py",
   "mimetype": "text/x-python",
   "name": "python",
   "nbconvert_exporter": "python",
   "pygments_lexer": "ipython3",
   "version": "3.6.8"
  }
 },
 "nbformat": 4,
 "nbformat_minor": 1
}
