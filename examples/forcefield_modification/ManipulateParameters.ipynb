{
 "cells": [
  {
   "cell_type": "markdown",
   "metadata": {},
   "source": [
    "# Loading and modifying a SMIRNOFF forcefield\n",
    "\n",
    "This notebook illustrates how to load a SMIRNOFF forcefield, apply it to an example molecule, get the energy, then manipulate the parameters in the forcefield and update the energy.\n",
    "\n",
    "## Prep some utility functions/import stuff"
   ]
  },
  {
   "cell_type": "code",
   "execution_count": 2,
   "metadata": {},
   "outputs": [],
   "source": [
    "# Imports needed\n",
    "from openforcefield.topology import Molecule, Topology\n",
    "from openforcefield.typing.engines.smirnoff.forcefield import ForceField\n",
    "from openforcefield.utils import get_data_filename\n",
    "from simtk import openmm, unit\n",
    "import numpy as np"
   ]
  },
  {
   "cell_type": "code",
   "execution_count": 6,
   "metadata": {
    "collapsed": true
   },
   "outputs": [],
   "source": [
    "# Define utility function we'll use to get energy of an OpenMM system\n",
    "def get_energy(system, positions):\n",
    "    \"\"\"\n",
    "    Return the potential energy.\n",
    "\n",
    "    Parameters\n",
    "    ----------\n",
    "    system : simtk.openmm.System\n",
    "        The system to check\n",
    "    positions : simtk.unit.Quantity of dimension (natoms,3) with units of length\n",
    "        The positions to use\n",
    "    Returns\n",
    "    ---------\n",
    "    energy\n",
    "    \"\"\"\n",
    "\n",
    "    integrator = openmm.VerletIntegrator(1.0 * unit.femtoseconds)\n",
    "    context = openmm.Context(system, integrator)\n",
    "    context.setPositions(positions)\n",
    "    state = context.getState(getEnergy=True)\n",
    "    energy = state.getPotentialEnergy() / unit.kilocalories_per_mole\n",
    "    return energy"
   ]
  },
  {
   "cell_type": "markdown",
   "metadata": {},
   "source": [
    "## Load an molecule and evaluate its energy before and after a parameter modification"
   ]
  },
  {
   "cell_type": "code",
   "execution_count": 3,
   "metadata": {},
   "outputs": [
    {
     "ename": "UnboundLocalError",
     "evalue": "local variable 'mol' referenced before assignment",
     "output_type": "error",
     "traceback": [
      "\u001b[0;31m---------------------------------------------------------------------------\u001b[0m",
      "\u001b[0;31mUnboundLocalError\u001b[0m                         Traceback (most recent call last)",
      "\u001b[0;32m<ipython-input-3-0b2958a05c61>\u001b[0m in \u001b[0;36m<module>\u001b[0;34m()\u001b[0m\n\u001b[1;32m      1\u001b[0m \u001b[0;31m# Load a molecule\u001b[0m\u001b[0;34m\u001b[0m\u001b[0;34m\u001b[0m\u001b[0m\n\u001b[0;32m----> 2\u001b[0;31m \u001b[0mmolecule\u001b[0m \u001b[0;34m=\u001b[0m \u001b[0mMolecule\u001b[0m\u001b[0;34m.\u001b[0m\u001b[0mfrom_file\u001b[0m\u001b[0;34m(\u001b[0m\u001b[0;34m'molecules/AlkEthOH_c100.mol2'\u001b[0m\u001b[0;34m)\u001b[0m\u001b[0;34m\u001b[0m\u001b[0m\n\u001b[0m\u001b[1;32m      3\u001b[0m \u001b[0;34m\u001b[0m\u001b[0m\n\u001b[1;32m      4\u001b[0m \u001b[0;31m#Get positions for use below\u001b[0m\u001b[0;34m\u001b[0m\u001b[0;34m\u001b[0m\u001b[0m\n\u001b[1;32m      5\u001b[0m \u001b[0mpositions\u001b[0m \u001b[0;34m=\u001b[0m \u001b[0mmolecule\u001b[0m\u001b[0;34m.\u001b[0m\u001b[0mpositions\u001b[0m\u001b[0;34m\u001b[0m\u001b[0m\n",
      "\u001b[0;32m~/github/openforcefield/openforcefield/openforcefield/topology/molecule.py\u001b[0m in \u001b[0;36mfrom_file\u001b[0;34m(filename)\u001b[0m\n\u001b[1;32m   1031\u001b[0m             \u001b[0moemol\u001b[0m \u001b[0;34m=\u001b[0m \u001b[0moechem\u001b[0m\u001b[0;34m.\u001b[0m\u001b[0mOEGraphMol\u001b[0m\u001b[0;34m(\u001b[0m\u001b[0;34m)\u001b[0m\u001b[0;34m\u001b[0m\u001b[0m\n\u001b[1;32m   1032\u001b[0m             \u001b[0mifs\u001b[0m \u001b[0;34m=\u001b[0m \u001b[0moechem\u001b[0m\u001b[0;34m.\u001b[0m\u001b[0moemolistream\u001b[0m\u001b[0;34m(\u001b[0m\u001b[0mfilename\u001b[0m\u001b[0;34m)\u001b[0m\u001b[0;34m\u001b[0m\u001b[0m\n\u001b[0;32m-> 1033\u001b[0;31m             \u001b[0;32mwhile\u001b[0m \u001b[0moechem\u001b[0m\u001b[0;34m.\u001b[0m\u001b[0mOEReadMolecule\u001b[0m\u001b[0;34m(\u001b[0m\u001b[0mifs\u001b[0m\u001b[0;34m,\u001b[0m \u001b[0mmol\u001b[0m\u001b[0;34m)\u001b[0m\u001b[0;34m:\u001b[0m\u001b[0;34m\u001b[0m\u001b[0m\n\u001b[0m\u001b[1;32m   1034\u001b[0m                 \u001b[0mmol\u001b[0m \u001b[0;34m=\u001b[0m \u001b[0mMolecule\u001b[0m\u001b[0;34m.\u001b[0m\u001b[0mfrom_openeye\u001b[0m\u001b[0;34m(\u001b[0m\u001b[0moemol\u001b[0m\u001b[0;34m)\u001b[0m\u001b[0;34m\u001b[0m\u001b[0m\n\u001b[1;32m   1035\u001b[0m                 \u001b[0mmols\u001b[0m\u001b[0;34m.\u001b[0m\u001b[0mappend\u001b[0m\u001b[0;34m(\u001b[0m\u001b[0mmol\u001b[0m\u001b[0;34m)\u001b[0m\u001b[0;34m\u001b[0m\u001b[0m\n",
      "\u001b[0;31mUnboundLocalError\u001b[0m: local variable 'mol' referenced before assignment"
     ]
    }
   ],
   "source": [
    "# Load a molecule\n",
    "from openforcefield.tests.utils import get_alkethoh_filepath\n",
    "molecule = Molecule.from_file(get_alkethoh_filepath('AlkEthOH_c100'))\n",
    "\n",
    "#Get positions for use below\n",
    "positions = molecule.positions\n",
    "\n",
    "# Load forcefield file\n",
    "ffxml = get_data_filename('forcefield/Frosst_AlkEthOH.offxml')\n",
    "ff = ForceField(ffxml)\n",
    "\n",
    "# Generate an openforcefield Topology containing only this molecule\n",
    "topology = molecule.to_topology()\n",
    "\n",
    "# Create initial system\n",
    "old_system = ff.create_system(topology)\n",
    "\n",
    "# Get initial energy before parameter modification\n",
    "old_energy = get_energy(old_system, positions)\n",
    "\n",
    "# Get params for an angle\n",
    "smirks = '[a,A:1]-[#6X4:2]-[a,A:3]' # SMIRKS for the parameter to retrieve\n",
    "parameter = forcefield.forces['Angles'].parameters[smirks]\n",
    "\n",
    "# Modify the parameters\n",
    "parameter.k *= 0.9\n",
    "parameter.theta0 *= 1.02\n",
    "\n",
    "# Evaluate energy after parameter modification\n",
    "new_system = ff.create_system(topology)\n",
    "new_energy = get_energy(new_system, positions)\n",
    "\n",
    "# Print out energy\n",
    "print(\"Original energy: %.3g. New energy: %.3g\" % (old_energy, new_energy))"
   ]
  },
  {
   "cell_type": "markdown",
   "metadata": {},
   "source": [
    "## Inspect and manipulate parameters"
   ]
  },
  {
   "cell_type": "code",
   "execution_count": 4,
   "metadata": {},
   "outputs": [
    {
     "ename": "NameError",
     "evalue": "name 'ParameterList' is not defined",
     "output_type": "error",
     "traceback": [
      "\u001b[0;31m---------------------------------------------------------------------------\u001b[0m",
      "\u001b[0;31mNameError\u001b[0m                                 Traceback (most recent call last)",
      "\u001b[0;32m<ipython-input-4-045b9c1d16e6>\u001b[0m in \u001b[0;36m<module>\u001b[0;34m()\u001b[0m\n\u001b[1;32m      1\u001b[0m \u001b[0;31m#Create a new ForceField containing the smirnoff99Frosst parameter set:\u001b[0m\u001b[0;34m\u001b[0m\u001b[0;34m\u001b[0m\u001b[0m\n\u001b[1;32m      2\u001b[0m \u001b[0;34m\u001b[0m\u001b[0m\n\u001b[0;32m----> 3\u001b[0;31m \u001b[0mforcefield\u001b[0m \u001b[0;34m=\u001b[0m \u001b[0mForceField\u001b[0m\u001b[0;34m(\u001b[0m\u001b[0;34m'smirnoff99Frosst.offxml'\u001b[0m\u001b[0;34m)\u001b[0m\u001b[0;34m\u001b[0m\u001b[0m\n\u001b[0m\u001b[1;32m      4\u001b[0m \u001b[0;34m\u001b[0m\u001b[0m\n\u001b[1;32m      5\u001b[0m \u001b[0;31m# Create an OpenMM system from a :class:`openforcefield.topology.Topology` object:\u001b[0m\u001b[0;34m\u001b[0m\u001b[0;34m\u001b[0m\u001b[0m\n",
      "\u001b[0;32m~/github/openforcefield/openforcefield/openforcefield/typing/engines/smirnoff/forcefield.py\u001b[0m in \u001b[0;36m__init__\u001b[0;34m(self, parameter_object_handlers, parameter_io_handlers, disable_version_check, *sources)\u001b[0m\n\u001b[1;32m    200\u001b[0m         \"\"\"\n\u001b[1;32m    201\u001b[0m         \u001b[0;31m# Clear all object fields\u001b[0m\u001b[0;34m\u001b[0m\u001b[0;34m\u001b[0m\u001b[0m\n\u001b[0;32m--> 202\u001b[0;31m         \u001b[0mself\u001b[0m\u001b[0;34m.\u001b[0m\u001b[0m_initialize\u001b[0m\u001b[0;34m(\u001b[0m\u001b[0;34m)\u001b[0m\u001b[0;34m\u001b[0m\u001b[0m\n\u001b[0m\u001b[1;32m    203\u001b[0m \u001b[0;34m\u001b[0m\u001b[0m\n\u001b[1;32m    204\u001b[0m         \u001b[0;31m# Store initialization options\u001b[0m\u001b[0;34m\u001b[0m\u001b[0;34m\u001b[0m\u001b[0m\n",
      "\u001b[0;32m~/github/openforcefield/openforcefield/openforcefield/typing/engines/smirnoff/forcefield.py\u001b[0m in \u001b[0;36m_initialize\u001b[0;34m(self)\u001b[0m\n\u001b[1;32m    228\u001b[0m         \u001b[0mself\u001b[0m\u001b[0;34m.\u001b[0m\u001b[0mparameter_handlers\u001b[0m \u001b[0;34m=\u001b[0m \u001b[0mOrderedDict\u001b[0m\u001b[0;34m(\u001b[0m\u001b[0;34m)\u001b[0m \u001b[0;31m# ParameterHandler classes to be instantiated for each parameter type\u001b[0m\u001b[0;34m\u001b[0m\u001b[0m\n\u001b[1;32m    229\u001b[0m         \u001b[0mself\u001b[0m\u001b[0;34m.\u001b[0m\u001b[0mfile_handlers\u001b[0m \u001b[0;34m=\u001b[0m \u001b[0mOrderedDict\u001b[0m\u001b[0;34m(\u001b[0m\u001b[0;34m)\u001b[0m \u001b[0;31m# ParameterIO classes to be used for each file type\u001b[0m\u001b[0;34m\u001b[0m\u001b[0m\n\u001b[0;32m--> 230\u001b[0;31m         \u001b[0mself\u001b[0m\u001b[0;34m.\u001b[0m\u001b[0mparameters\u001b[0m \u001b[0;34m=\u001b[0m \u001b[0mParameterList\u001b[0m\u001b[0;34m(\u001b[0m\u001b[0;34m)\u001b[0m \u001b[0;31m# ParameterHandler objects instantiated for each parameter type\u001b[0m\u001b[0;34m\u001b[0m\u001b[0m\n\u001b[0m\u001b[1;32m    231\u001b[0m \u001b[0;34m\u001b[0m\u001b[0m\n\u001b[1;32m    232\u001b[0m     \u001b[0;31m# TODO: Fold this into initializer for ForceField or ParameterSet\u001b[0m\u001b[0;34m\u001b[0m\u001b[0;34m\u001b[0m\u001b[0m\n",
      "\u001b[0;31mNameError\u001b[0m: name 'ParameterList' is not defined"
     ]
    }
   ],
   "source": [
    "# Create a new ForceField containing the smirnoff99Frosst parameter set:\n",
    "\n",
    "forcefield = ForceField('smirnoff99Frosst.offxml')\n",
    "\n",
    "# Create an OpenMM system from a :class:`openforcefield.topology.Topology` object:\n",
    "\n",
    "from openforcefield.topology.testsystems import WaterBox\n",
    "system = forcefield.create_system(WaterBox.topology)\n",
    "\n",
    "# Modify the long-range electrostatics method:\n",
    "\n",
    "forcefield.forces['Electrostatics'].method = 'PME'\n",
    "\n",
    "# Inspect the first few vdW parameters:\n",
    "\n",
    "print(forcefield.forces['vdW'].parameters[0:3])\n",
    "\n",
    "# Retrieve the vdW parameters by SMIRKS string and manipulate it:\n",
    "\n",
    "parameter = forcefield.forces['vdW'].parameters['[#1:1]-[#7]']\n",
    "parameter.sigma += 0.1 * unit.angstroms\n",
    "parameter.epsilon *= 1.02\n",
    "\n",
    "# Make a child vdW type more specific (checking modified SMIRKS for validity):\n",
    "\n",
    "forcefield.forces['vdW'].parameters[-1].smirks += '$(*~[#53])'"
   ]
  },
  {
   "cell_type": "code",
   "execution_count": null,
   "metadata": {
    "collapsed": true
   },
   "outputs": [],
   "source": []
  }
 ],
 "metadata": {
  "kernelspec": {
   "display_name": "Python 3",
   "language": "python",
   "name": "python3"
  },
  "language_info": {
   "codemirror_mode": {
    "name": "ipython",
    "version": 3
   },
   "file_extension": ".py",
   "mimetype": "text/x-python",
   "name": "python",
   "nbconvert_exporter": "python",
   "pygments_lexer": "ipython3",
   "version": "3.6.5"
  }
 },
 "nbformat": 4,
 "nbformat_minor": 1
}
