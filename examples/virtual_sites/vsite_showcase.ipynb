{
 "cells": [
  {
   "cell_type": "code",
   "execution_count": 1,
   "metadata": {},
   "outputs": [
    {
     "name": "stderr",
     "output_type": "stream",
     "text": [
      "Warning: Unable to load toolkit 'OpenEye Toolkit'. The Open Force Field Toolkit does not require the OpenEye Toolkits, and can use RDKit/AmberTools instead. However, if you have a valid license for the OpenEye Toolkits, consider installing them for faster performance and additional file format support: https://docs.eyesopen.com/toolkits/python/quickstart-python/linuxosx.html OpenEye offers free Toolkit licenses for academics: https://www.eyesopen.com/academic-licensing\n"
     ]
    },
    {
     "data": {
      "application/vnd.jupyter.widget-view+json": {
       "model_id": "48f3ebe91781413d9df854d468e894de",
       "version_major": 2,
       "version_minor": 0
      },
      "text/plain": [
       "_ColormakerRegistry()"
      ]
     },
     "metadata": {},
     "output_type": "display_data"
    }
   ],
   "source": [
    "from simtk.openmm import app, LangevinIntegrator, XmlSerializer\n",
    "from simtk import unit\n",
    "from openforcefield.typing.engines.smirnoff import ForceField as OFFForceField\n",
    "from openforcefield.topology import Molecule as OFFMolecule\n",
    "from openforcefield.topology import Topology as OFFTopology\n",
    "from openforcefield.topology import TopologyAtom\n",
    "import numpy as np"
   ]
  },
  {
   "cell_type": "markdown",
   "metadata": {},
   "source": [
    "## Part 1: Fun with VirtualSites. Define a twofold sulfur lone pair virtual site and run a short simulation\n",
    "(There is a known bug where you can only load a vsite OFFXML once per python session -- So restart the kernel if you modify the OFFXML!)"
   ]
  },
  {
   "cell_type": "code",
   "execution_count": 2,
   "metadata": {},
   "outputs": [],
   "source": [
    "vsite_offxml = '''<?xml version=\"1.0\" encoding=\"utf-8\"?>\n",
    "<SMIRNOFF version=\"0.3\" aromaticity_model=\"OEAroModel_MDL\">\n",
    "    <VirtualSites version=\"0.3\">\n",
    "        <VirtualSite\n",
    "            type=\"DivalentLonePair\"\n",
    "            name=\"EP\"\n",
    "            smirks=\"[*:1]-[#16X2:2]-[*:3]\"\n",
    "            distance=\"0.70 * angstrom\"\n",
    "            chargeincrement1=\"0.1205*elementary_charge\"\n",
    "            chargeincrement2=\"0.0*elementary_charge\"\n",
    "            chargeincrement3=\"0.1205*elementary_charge\"\n",
    "            sigma=\"0.1*angstrom\"\n",
    "            epsilon=\"0.0*kilocalories_per_mole\"\n",
    "            outOfPlaneAngle=\"54.71384225*degree\"\n",
    "            inPlaneAngle=\"0*degree\"\n",
    "            orientation=\"0,1\" >\n",
    "        </VirtualSite>\n",
    "        <VirtualSite \n",
    "            type=\"BondCharge\"\n",
    "            name=\"EP\"\n",
    "            smirks=\"[*:2][Cl:1]\"\n",
    "            distance=\"0.4*angstrom\"\n",
    "            chargeincrement1=\"0.2*elementary_charge\"\n",
    "            chargeincrement2=\"0.0*elementary_charge\"\n",
    "            sigma=\"0.1*angstrom\"\n",
    "            epsilon=\"0.05*kilocalories_per_mole\"\n",
    "            orientation=\"0\" >\n",
    "        </VirtualSite>\n",
    "        <VirtualSite \n",
    "            type=\"BondCharge\"\n",
    "            name=\"EP\"\n",
    "            smirks=\"[*:2][F:1]\"\n",
    "            distance=\"0.4*angstrom\"\n",
    "            chargeincrement1=\"0.2*elementary_charge\"\n",
    "            chargeincrement2=\"0.0*elementary_charge\"\n",
    "            sigma=\"0.1*angstrom\"\n",
    "            epsilon=\"0.05*kilocalories_per_mole\"\n",
    "            orientation=\"0\" >\n",
    "        </VirtualSite>\n",
    "    </VirtualSites>\n",
    "</SMIRNOFF>\n",
    "'''\n",
    "ff = OFFForceField('openff-1.2.0.offxml', vsite_offxml)"
   ]
  },
  {
   "cell_type": "code",
   "execution_count": 3,
   "metadata": {},
   "outputs": [
    {
     "data": {
      "image/png": "[encoded data removed]",
      "text/plain": [
       "<rdkit.Chem.rdchem.Mol at 0x11fcc8670>"
      ]
     },
     "execution_count": 3,
     "metadata": {},
     "output_type": "execute_result"
    }
   ],
   "source": [
    "offmol = OFFMolecule.from_smiles('c1cc(-Cl)ccc1C(=O)CS[C]1=CO[C](F)(F)CC1')\n",
    "offmol.generate_conformers(n_conformers=1)\n",
    "offmol.visualize()"
   ]
  },
  {
   "cell_type": "code",
   "execution_count": 4,
   "metadata": {},
   "outputs": [],
   "source": [
    "# Make the OpenMM system and grab the resulting Topology (with VSites added)\n",
    "\n",
    "off_top = offmol.to_topology()\n",
    "off_sys, off_top_w_vsites = ff.create_openmm_system(offmol.to_topology(), return_topology=True)"
   ]
  },
  {
   "cell_type": "code",
   "execution_count": 5,
   "metadata": {},
   "outputs": [
    {
     "name": "stdout",
     "output_type": "stream",
     "text": [
      "There are 5 virtual particles\n",
      "EP None <Residue 0 () of chain 0>\n",
      "EP None <Residue 0 () of chain 0>\n",
      "EP None <Residue 0 () of chain 0>\n",
      "EP None <Residue 0 () of chain 0>\n",
      "EP None <Residue 0 () of chain 0>\n"
     ]
    }
   ],
   "source": [
    "# Retrieve the number of virtualsites that were added\n",
    "n_virtual_sites = off_top_w_vsites.n_topology_particles - off_top_w_vsites.n_topology_atoms\n",
    "print(f\"There are {n_virtual_sites} virtual particles\")\n",
    "\n",
    "# Get an OpenMM Topology from our openFF Topology\n",
    "omm_top = off_top.to_openmm()\n",
    "\n",
    "# to_openmm doesn't handle virtualsites yet, so we add them manually to the openmm topology here\n",
    "for top_particle in off_top_w_vsites.topology_particles:\n",
    "    if isinstance(top_particle, TopologyAtom):\n",
    "        continue\n",
    "    print(top_particle.virtual_site.name, app.Element.getByMass(0), [i for i in omm_top.residues()][0])\n",
    "    omm_top.addAtom(top_particle.virtual_site.name, app.Element.getByMass(0), [i for i in omm_top.residues()][0])"
   ]
  },
  {
   "cell_type": "code",
   "execution_count": 6,
   "metadata": {},
   "outputs": [],
   "source": [
    "from simtk import openmm, unit\n",
    "\n",
    "# Propagate the System with Langevin dynamics.\n",
    "time_step = 2*unit.femtoseconds  # simulation timestep\n",
    "temperature = 300*unit.kelvin  # simulation temperature\n",
    "friction = 1/unit.picosecond  # collision rate\n",
    "integrator = openmm.LangevinIntegrator(temperature, friction, time_step)\n",
    "\n",
    "# Length of the simulation.\n",
    "num_steps = 1000  # number of integration steps to run\n",
    "\n",
    "# Logging options.\n",
    "trj_freq = 1  # number of steps per written trajectory frame\n",
    "data_freq = 1  # number of steps per written simulation statistics\n",
    "\n",
    "# Set up an OpenMM simulation.\n",
    "simulation = openmm.app.Simulation(omm_top, off_sys, integrator)\n",
    "\n",
    "# Set the initial positions.\n",
    "positions = np.concatenate((offmol.conformers[0], np.zeros((n_virtual_sites, 3))), \n",
    "                           axis=0) * unit.angstrom\n",
    "simulation.context.setPositions(positions)\n",
    "\n",
    "# This is necessary since we placed all virtual sites at 0,0,0. This will cause the first simulation\n",
    "# step to crash if the positions are not calculated beforehand\n",
    "simulation.context.computeVirtualSites()\n",
    "\n",
    "# Randomize the velocities from a Boltzmann distribution at a given temperature.\n",
    "simulation.context.setVelocitiesToTemperature(temperature)\n",
    "\n",
    "# Configure the information in the output files.\n",
    "pdb_reporter = openmm.app.PDBReporter('trajectory.pdb', trj_freq)\n",
    "state_data_reporter = openmm.app.StateDataReporter('data.csv', data_freq, step=True,\n",
    "                                                   potentialEnergy=True, temperature=True,\n",
    "                                                   density=True)\n",
    "simulation.reporters.append(pdb_reporter)\n",
    "simulation.reporters.append(state_data_reporter)"
   ]
  },
  {
   "cell_type": "code",
   "execution_count": 7,
   "metadata": {},
   "outputs": [
    {
     "name": "stdout",
     "output_type": "stream",
     "text": [
      "Starting simulation\n",
      "Elapsed time 2.01 seconds\n",
      "Done!\n"
     ]
    }
   ],
   "source": [
    "import time\n",
    "\n",
    "print(\"Starting simulation\")\n",
    "start = time.process_time()\n",
    "\n",
    "# Run the simulation\n",
    "simulation.step(num_steps)\n",
    "\n",
    "end = time.process_time()\n",
    "print(\"Elapsed time %.2f seconds\" % (end-start))\n",
    "print(\"Done!\")\n"
   ]
  },
  {
   "cell_type": "markdown",
   "metadata": {},
   "source": [
    "Now go visualize `trajectory.pdb` in VMD or PyMol!"
   ]
  },
  {
   "cell_type": "markdown",
   "metadata": {},
   "source": [
    "## Part 2: Numerical comparison of OpenMM's TIP5P and an equivalent SMIRNOFF implementation \n",
    "\n",
    "(Restart your kernel here, since we'll be loading another vsite OFFXML)"
   ]
  },
  {
   "cell_type": "markdown",
   "metadata": {},
   "source": [
    "Parameterizes a water box with OpenFF and OpenMM forcefields. Currently set up\n",
    "to use a TIP5P definition. The code examines the geometry and energy between the\n",
    "two, and examines cases where minimization is performed. Specifically, the code\n",
    "compares the four possible combinations:\n",
    "    - oFF and oMM geometry/energy, minimized separately and then compared\n",
    "    - oFF and oMM geometry/energy using no minimization\n",
    "    - Geometry minimized using oFF, then a single point is done with oMM\n",
    "    - Geometry minimized using oMM, then a single point is done with oFF\n",
    "\n",
    "The virtual site definitions give differences in geometry and energy mostly due\n",
    "to how their were defined from their parent atoms. OpenMM uses a OutOfPlaneSite\n",
    "definition, whereas OpenFF uses the LocalCoordinatesSite definition (both are\n",
    "OpenMM types). In the OutOfPlaneSite definition, both angle and distance is\n",
    "variable since the defined out-of-plane angle depends on a weighted vector cross.\n",
    "The cross is a function of the O-H vectors, so the virtual sites are sensitive\n",
    "to the molecular geometry. In the OpenFF spec the distance is fixed to a constant\n",
    "value, and the out-of-plane angle is explicitly required in the OpenFF spec.\n",
    "\n",
    "In this example, the OpenFF parameter definition (the \"offxml\") is a string\n",
    "further below in the `main` function, and can be easily modified to explore\n",
    "forcefield parameterization. The OpenMM definition is loaded from its internal \n",
    "default location, and acts as a reference. One can change this this to a different\n",
    "filename to compare other forcefields.\n",
    "\n",
    "The code is somewhat hardcode to operate on water molecules, but can be easily\n",
    "modified to examine other cases as well. The only major assumption is that the\n",
    "system is homogenous, i.e., all of the molecules are same. This is mostly due to\n",
    "the difference in how virtual sites are handled between OpenFF and OpenMM.\n",
    "Whereas OpenMM interleaves the virtual site particles between the atomic\n",
    "particles, OpenFF instead aggregates all virtual sites and places them last. The\n",
    "code below does assume that, barring this difference, the virtual sites are\n",
    "added in the same order.\n",
    "\n",
    "The example begins in `run_tests` by defining a grid of water molecules, with\n",
    "the default being a single water (Nx=1, Ny=1, Nz=1). From this, the calculations\n",
    "described in the first paragraph above are performed. The energy difference and\n",
    "distance between the two geometries, per atom, is then reported. There are\n",
    "commented lines that print the entire set of coordinates, and can be uncommented\n",
    "if desired."
   ]
  },
  {
   "cell_type": "markdown",
   "metadata": {},
   "source": [
    "\n",
    "The following functions are utilities and other infrastructure to make  comparison between OpenFF and OpenMM calculations easier.\n"
   ]
  },
  {
   "cell_type": "code",
   "execution_count": 1,
   "metadata": {},
   "outputs": [
    {
     "data": {
      "application/vnd.jupyter.widget-view+json": {
       "model_id": "be8fcc2678054b2c8a1522a8f91225cd",
       "version_major": 2,
       "version_minor": 0
      },
      "text/plain": [
       "_ColormakerRegistry()"
      ]
     },
     "metadata": {},
     "output_type": "display_data"
    }
   ],
   "source": [
    "from simtk.openmm import app, LangevinIntegrator, XmlSerializer\n",
    "from simtk import unit\n",
    "from openforcefield.typing.engines.smirnoff import ForceField as OFFForceField\n",
    "from openforcefield.topology import Molecule as OFFMolecule\n",
    "from openforcefield.topology import Topology as OFFTopology\n",
    "from openforcefield.topology import TopologyAtom\n",
    "import numpy as np\n",
    "\n",
    "# To get a fair comparison , take the OpenMM virtual sites and put them at the\n",
    "# end so that they follow the same order as the oFF order.\n",
    "def reorder_openmm_to_openff(xyz, n_atoms_per_mol, n_vsites_per_mol):\n",
    "    \"\"\"\n",
    "    \"\"\"\n",
    "    # constants for simplicity\n",
    "    n_particles_per_mol = (n_atoms_per_mol + n_vsites_per_mol)\n",
    "    n_mols = xyz.shape[0] // n_particles_per_mol\n",
    "\n",
    "    atom_base_indices = np.arange(n_atoms_per_mol)\n",
    "    atom_indices = np.hstack([atom_base_indices + (i*n_particles_per_mol) for i in range(n_mols)])\n",
    "\n",
    "    vsite_base_indices = np.arange(n_vsites_per_mol) + n_atoms_per_mol \n",
    "    vsite_indices = np.hstack([vsite_base_indices + (i*n_particles_per_mol) for i in range(n_mols)])\n",
    "\n",
    "    mask = np.hstack([atom_indices, vsite_indices])\n",
    "\n",
    "    return xyz[mask]"
   ]
  },
  {
   "cell_type": "code",
   "execution_count": 2,
   "metadata": {},
   "outputs": [],
   "source": [
    "\n",
    "\n",
    "def reorder_openff_to_openmm(xyz, n_atoms_per_mol, n_vsites_per_mol):\n",
    "    # constants for simplicity\n",
    "    n_particles_per_mol = (n_atoms_per_mol + n_vsites_per_mol)\n",
    "    n_mols = xyz.shape[0] // n_particles_per_mol\n",
    "\n",
    "    atom_base_indices = np.arange(n_atoms_per_mol)\n",
    "    vsite_base_indices = np.arange(n_vsites_per_mol) + n_atoms_per_mol * n_mols\n",
    "\n",
    "    mask = np.hstack([\n",
    "        np.hstack([\n",
    "            atom_base_indices + (i*n_atoms_per_mol), \n",
    "            vsite_base_indices + (i*n_vsites_per_mol)\n",
    "        ]) for i in range(n_mols)])\n",
    "\n",
    "    return xyz[mask]"
   ]
  },
  {
   "cell_type": "code",
   "execution_count": 3,
   "metadata": {},
   "outputs": [],
   "source": [
    "\n",
    "\n",
    "def openmm_evaluate_vsites_and_energy(omm_top,\n",
    "                                      omm_sys,\n",
    "                                      atom_xyz_in_nm,\n",
    "                                      minimize=False):\n",
    "    \"\"\"\n",
    "    Calculate the Virtual Site positions and potential energy\n",
    "    of the given system\n",
    "\n",
    "    Parameters\n",
    "    ----------\n",
    "    omm_top: OpenMM Topology\n",
    "    omm_sys: OpenMM System\n",
    "    atom_xyz_in_nm: N,3 List of floats interpreted as nanometers\n",
    "    minimize: Boolean Perform a minimization before calculating energy\n",
    "\n",
    "    Returns\n",
    "    -------\n",
    "    pos: N,3 List of floats of the positions of all particles\n",
    "    ene: The potential energy of the particle positions\n",
    "    \"\"\"\n",
    "\n",
    "    integ = LangevinIntegrator(300 * unit.kelvin, 1 / unit.picosecond,\n",
    "                               0.002 * unit.picoseconds)\n",
    "\n",
    "    sim = app.Simulation(omm_top, omm_sys, integ)\n",
    "    pos = sim.context.getState(getPositions=True).getPositions()\n",
    "\n",
    "\n",
    "    sim.context.setPositions(atom_xyz_in_nm)\n",
    "\n",
    "    # Once the atom positions are known, virtual sites can\n",
    "    # be determined.\n",
    "    sim.context.computeVirtualSites()\n",
    "\n",
    "\n",
    "    if minimize:\n",
    "        sim.minimizeEnergy()\n",
    "\n",
    "    state = sim.context.getState(getEnergy=True, getPositions=True)\n",
    "    ene = state.getPotentialEnergy()\n",
    "    pos = [\n",
    "        list(xyz) for xyz in state.getPositions().value_in_unit(unit.nanometer)\n",
    "    ] * unit.nanometer\n",
    "    return pos, ene"
   ]
  },
  {
   "cell_type": "code",
   "execution_count": 4,
   "metadata": {},
   "outputs": [],
   "source": [
    "\n",
    "def build_openff_water_lattice(Nx=1, Ny=1, Nz=1, dx=2.0, dy=2.0, dz=2.0):\n",
    "    \"\"\"\n",
    "    Generate a box of water molecules as OpenFF Molecules\n",
    "\n",
    "    Parameters\n",
    "    ----------\n",
    "        Nx, Ny, Nz: The number of molecules in each directon\n",
    "        dx, dy, dz: The spacing between the molecules in each direction\n",
    "\n",
    "    Returns\n",
    "    -------\n",
    "        water_box: A List of OpenFF molecules with a 3D conformation\n",
    "    \"\"\"\n",
    "    Lx, Ly, Lz = Nx * dx, Ny * dy, Nz * dz\n",
    "    Z, Y, X = np.mgrid[0:Lz:dz, 0:Ly:dy, 0:Lx:dx]\n",
    "    XYZ = [list(xyz) for xyz in zip(X.flat, Y.flat, Z.flat)]\n",
    "\n",
    "    water_box = list([None] * len(XYZ))\n",
    "\n",
    "    water_reference = OFFMolecule.from_smiles('O')\n",
    "    water_reference.atoms[0].name = 'O'\n",
    "    water_reference.atoms[1].name = 'H1'\n",
    "    water_reference.atoms[2].name = 'H2'\n",
    "    water_reference.generate_conformers()\n",
    "\n",
    "    for i, xyz in enumerate(XYZ):\n",
    "        water_box[i] = OFFMolecule(water_reference)\n",
    "        water_box[i].conformers[0] += xyz * unit.angstrom\n",
    "\n",
    "    return water_box\n"
   ]
  },
  {
   "cell_type": "code",
   "execution_count": 5,
   "metadata": {},
   "outputs": [],
   "source": [
    "\n",
    "def insert_vsite_padding(xyz, n_mol, n_vsite, order=\"OpenFF\"):\n",
    "    \"\"\"\n",
    "    Given a set of atomic coordinates, insert dummy coordinates in indices\n",
    "    expected for either OpenFF or OpenMM. OpenFF places the dummy coordinates\n",
    "    at the end, whereas OpenMM expects virtual sites to be next to their owning\n",
    "    molecule.\n",
    "    Parameters\n",
    "    ----------\n",
    "        xyz: N,3 List, of coordinates of atoms only\n",
    "        n_mol: int, The number of molecules\n",
    "        n_vsite: int, The number of virtual site dummy positions to insert\n",
    "    \n",
    "    Returns\n",
    "    -------\n",
    "        xyz: (N+n_vsite,3) List, the coordinates of all particles in the\n",
    "        expected order\n",
    "    \"\"\"\n",
    "\n",
    "    # heuristic that vsites come at the end; applies to OpenFF\n",
    "    vsite_pad = np.arange(n_vsite*3).reshape(n_vsite, 3)\n",
    "    xyz = np.vstack([xyz, vsite_pad])\n",
    "\n",
    "    # but does not apply to OpenMM. Need to interleave vsite coordinates\n",
    "    if order == \"OpenMM\":\n",
    "        n_vsites_per_mol = n_vsite // n_mol\n",
    "        n_atoms_per_mol = len(xyz) // n_mol - n_vsites_per_mol\n",
    "        xyz = reorder_openff_to_openmm(xyz, n_atoms_per_mol, n_vsites_per_mol)\n",
    "    \n",
    "    return xyz\n"
   ]
  },
  {
   "cell_type": "code",
   "execution_count": 6,
   "metadata": {},
   "outputs": [],
   "source": [
    "\n",
    "def coords_from_off_mols(mols, conformer_id=0, unit=unit.angstrom):\n",
    "    \"\"\"\n",
    "    Small utility to extract the coordinates from the molecule conformers,\n",
    "    with optional unit conversion\n",
    "    \"\"\"\n",
    "    xyz = np.vstack(\n",
    "        [mol.conformers[conformer_id].value_in_unit(unit) for mol in mols])\n",
    "    return xyz * unit\n"
   ]
  },
  {
   "cell_type": "markdown",
   "metadata": {},
   "source": [
    "The function to calculate water using the oMM definition\n"
   ]
  },
  {
   "cell_type": "code",
   "execution_count": 7,
   "metadata": {},
   "outputs": [],
   "source": [
    "\n",
    "def evaluate_water_omm(water, ff, minimize=False):\n",
    "    \"\"\"\n",
    "    Given a list of molecules and a forcefield definition, calculate the\n",
    "    positions and energy.\n",
    "    \n",
    "    Parameters\n",
    "    ----------\n",
    "        water: List of OFFMolecules, each with a 3D conformation\n",
    "        ff: an OpenMM ForceField object\n",
    "        minimize: Boolean, whether the structure should be minimized\n",
    "\n",
    "    Returns\n",
    "    -------\n",
    "        xyz: List The coordinates of all particles in the system (OpenMM ordering)\n",
    "        ene: float, The potential energy\n",
    "    \"\"\"\n",
    "\n",
    "    top = OFFTopology.from_molecules(water).to_openmm()\n",
    "\n",
    "    # get the oFF topology and the positions\n",
    "    atom_xyz = coords_from_off_mols(water, unit=unit.nanometer)\n",
    "\n",
    "    # first pass; no virtual sites\n",
    "    omm_modeller = app.Modeller(top, atom_xyz)\n",
    "    omm_modeller.addExtraParticles(ff)\n",
    "\n",
    "    # second pass: virtual sites now present (according to oMM FF)\n",
    "    top = omm_modeller.getTopology()\n",
    "\n",
    "\n",
    "    sys = ff.createSystem(top, nonbondedMethod=app.NoCutoff)\n",
    "    n_vsite = sys.getNumParticles() - len(atom_xyz) \n",
    "    n_mol = len(water)\n",
    "\n",
    "    # need to insert dummy positions into coordinates, since OpenMM\n",
    "    # systems create virtual site particles in place, i.e. OHHMMOHHMM etc.\n",
    "    atom_xyz = insert_vsite_padding(atom_xyz, n_mol, n_vsite, order=\"OpenMM\")\n",
    "\n",
    "    # Need an openMM topology, an openMM system, and a set of positions\n",
    "    # to calculate the energy. Also returns the vsite positions based\n",
    "    # on supplied atom coordinates\n",
    "    xyz, ene = openmm_evaluate_vsites_and_energy(top, sys, atom_xyz, minimize=minimize)\n",
    "\n",
    "    return xyz,ene"
   ]
  },
  {
   "cell_type": "markdown",
   "metadata": {},
   "source": [
    "The function to calculate water using the oFF definition\n"
   ]
  },
  {
   "cell_type": "code",
   "execution_count": 8,
   "metadata": {},
   "outputs": [],
   "source": [
    "def evaluate_water_off(water, ff, minimize=False):\n",
    "    \"\"\"\n",
    "    Given a list of molecules and a forcefield definition, calculate the\n",
    "    positions and energy.\n",
    "    \n",
    "    Parameters\n",
    "    ----------\n",
    "        water: List of OFFMolecules, each with a 3D conformation\n",
    "        ff: an OpenFF ForceField object\n",
    "        minimize: Boolean, whether the structure should be minimized\n",
    "\n",
    "    Returns\n",
    "    -------\n",
    "        xyz: List The coordinates of all particles in the system (OpenMM ordering)\n",
    "        ene: float, The potential energy\n",
    "    \"\"\"\n",
    "\n",
    "    # get the oFF topology and the positions\n",
    "    top = OFFTopology.from_molecules(water)\n",
    "    atom_xyz = coords_from_off_mols(water, unit=unit.nanometer)\n",
    "\n",
    "    # IMPORTANT! The new system has the virtual sites, but the oFF top does not as there is no API yet to do so\n",
    "    sys = ff.create_openmm_system(top, allow_nonintegral_charges=True)\n",
    "\n",
    "    n_vsite = sys.getNumParticles() - len(atom_xyz) \n",
    "    n_mol = len(water)\n",
    "    atom_xyz = insert_vsite_padding(atom_xyz, n_mol, n_vsite, order=\"OpenFF\")\n",
    "\n",
    "    # Need an openMM topology, an openMM system, and a set of positions\n",
    "    # to calculate the energy. Also returns the vsite positions based\n",
    "    # on supplied atom coordinates\n",
    "    xyz, ene = openmm_evaluate_vsites_and_energy(top.to_openmm(), sys, atom_xyz, minimize=minimize)\n",
    "\n",
    "    return xyz,ene\n"
   ]
  },
  {
   "cell_type": "code",
   "execution_count": 9,
   "metadata": {},
   "outputs": [],
   "source": [
    "\n",
    "def print_info(xyz, ene, name, crd_units=unit.angstrom):\n",
    "    \"\"\"\n",
    "    \"\"\"\n",
    "    print(f\"RESULTS FOR {name}\")\n",
    "    print(f\"ENERGY: {ene}\")\n",
    "    print(\"COORDINATES:\")\n",
    "    print(xyz*crd_units)\n",
    "    print()\n"
   ]
  },
  {
   "cell_type": "code",
   "execution_count": 10,
   "metadata": {},
   "outputs": [],
   "source": [
    "tip5p_offxml = '''<?xml version=\"1.0\" encoding=\"utf-8\"?>\n",
    "<SMIRNOFF version=\"0.3\" aromaticity_model=\"OEAroModel_MDL\">\n",
    "    <LibraryCharges version=\"0.3\">\n",
    "            <LibraryCharge name=\"tip5p\" smirks=\"[#1:1]-[#8X2H2+0:2]-[#1:3]\" charge1=\"0.*elementary_charge\" charge2=\"0.*elementary_charge\" charge3=\"0.*elementary_charge\"/>\n",
    "    </LibraryCharges>\n",
    "    <vdW version=\"0.3\" potential=\"Lennard-Jones-12-6\" combining_rules=\"Lorentz-Berthelot\" scale12=\"0.0\" scale13=\"0.0\" scale14=\"0.5\" scale15=\"1.0\" switch_width=\"1.0 * angstrom\" cutoff=\"9.0 * angstrom\" method=\"cutoff\">\n",
    "            <Atom smirks=\"[#1:1]-[#8X2H2+0]-[#1]\" epsilon=\"0. * mole**-1 * kilojoule\" id=\"n35\" sigma=\"1 * nanometer\"/>\n",
    "            <Atom smirks=\"[#1]-[#8X2H2+0:1]-[#1]\" epsilon=\"0.66944 * mole**-1 * kilojoule\" id=\"n35\" sigma=\"0.312 * nanometer\"/>\n",
    "    </vdW>\n",
    "     <Bonds version=\"0.3\" potential=\"harmonic\" fractional_bondorder_method=\"None\" fractional_bondorder_interpolation=\"linear\">\n",
    "        <Bond smirks=\"[#1:1]-[#8X2H2+0:2]-[#1]\" length=\"0.9572 * angstrom\" k=\"462750.4 * nanometer**-2 * mole**-1 * kilojoule\" id=\"b1\" />   \n",
    "    </Bonds>\n",
    "    <Angles version=\"0.3\" potential=\"harmonic\">\n",
    "        <Angle smirks=\"[#1:1]-[#8X2H2+0:2]-[#1:3]\" angle=\"1.82421813418 * radian\" k=\"836.8 * mole**-1 * radian**-2 * kilojoule\" id=\"a1\" />\n",
    "    </Angles>\n",
    "    <VirtualSites version=\"0.3\">\n",
    "        <VirtualSite\n",
    "            type=\"DivalentLonePair\"\n",
    "            name=\"EP\"\n",
    "            smirks=\"[#1:1]-[#8X2H2+0:2]-[#1:3]\"\n",
    "            distance=\"0.70 * angstrom\"\n",
    "            chargeincrement1=\"0.1205*elementary_charge\"\n",
    "            chargeincrement2=\"0.0*elementary_charge\"\n",
    "            chargeincrement3=\"0.1205*elementary_charge\"\n",
    "            sigma=\"0.1*angstrom\"\n",
    "            epsilon=\"0.0*kilocalories_per_mole\"\n",
    "            outOfPlaneAngle=\"54.71384225*degree\"\n",
    "            inPlaneAngle=\"0*degree\"\n",
    "            orientation=\"0,1\" >\n",
    "        </VirtualSite>\n",
    "    </VirtualSites>\n",
    "    <Electrostatics version=\"0.3\" method=\"PME\" scale12=\"0.0\" scale13=\"0.0\" scale14=\"0.833333\" scale15=\"1.0\" switch_width=\"0.0 * angstrom\" cutoff=\"9.0 * angstrom\"/>\n",
    "</SMIRNOFF>\n",
    "'''\n",
    "\n",
    "constraints = \"\"\"\n",
    "  <Constraints version=\"0.3\">\n",
    "    <Constraint smirks=\"[#1:1]-[#8X2H2+0:2]-[#1]\" id=\"c1\" distance=\"0.9572 * angstrom\"/>\n",
    "    <Constraint smirks=\"[#1:1]-[#8X2H2+0]-[#1:2]\" id=\"c2\" distance=\"1.5139006545247014 * angstrom\"/>\n",
    "  </Constraints>\n",
    "\"\"\""
   ]
  },
  {
   "cell_type": "code",
   "execution_count": 11,
   "metadata": {},
   "outputs": [],
   "source": [
    "# Our custom-crafted oFF force field definition above\n",
    "\n",
    "# Evaluate these here only once. Important for OFF, since the second time\n",
    "# always seems to fail inside xmltodict parsing\n",
    "\n",
    "off_ff = OFFForceField(tip5p_offxml)\n",
    "\n",
    "# The standard OpenMM definition of tip5p\n",
    "omm_ff = app.ForceField('tip5p.xml')\n"
   ]
  },
  {
   "cell_type": "code",
   "execution_count": 13,
   "metadata": {},
   "outputs": [
    {
     "name": "stdout",
     "output_type": "stream",
     "text": [
      "===> EVALUATE OFF AND OMM NO MINIMIZATION SINGLE POINT <===\n",
      "RESULTS FOR OFF - OMM norm\n",
      "ENERGY: -8.474334716796875 kJ/mol\n",
      "COORDINATES:\n",
      "[ 0.0000000000  0.0000000000  0.0000000000  0.0000000000  0.0000000000\n",
      "  0.0000000000  0.0000000000  0.0000000000  0.0000000000  0.0000000000\n",
      "  0.0000000000  0.0000000000  0.0000000000  0.0000000000  0.0000000000\n",
      "  0.0000000000  0.0000000000  0.0000000000  0.0000000000  0.0000000000\n",
      "  0.0000000000  0.0000000000  0.0000000000  0.0000000000  0.0000000000\n",
      "  0.0000000000  0.0000000000  0.0000000000  0.0000000000  0.0000000000\n",
      "  0.0000000000  0.0000000000  0.0000000000  0.0000000000  0.0000000000\n",
      "  0.0000000000  0.0000000000  0.0000000000  0.0000000000  0.0000000000\n",
      "  0.0000000000  0.0000000000  0.0000000000  0.0000000000  0.0000000000\n",
      "  0.0000000000  0.0000000000  0.0000000000  0.0000000000  0.0000000000\n",
      "  0.0000000000  0.0000000000  0.0000000000  0.0000000000  0.0000000000\n",
      "  0.0000000000  0.0000000000  0.0000000000  0.0000000000  0.0000000000\n",
      "  0.0000000000  0.0000000000  0.0000000000  0.0000000000  0.0000000000\n",
      "  0.0000000000  0.0000000000  0.0000000000  0.0000000000  0.0000000000\n",
      "  0.0000000000  0.0000000000  0.0000000000  0.0000000000  0.0000000000\n",
      "  0.0000000000  0.0000000000  0.0000000000  0.0000000000  0.0000000000\n",
      "  0.0000000000  0.0173324446  0.0173325605  0.0173324255  0.0173324535\n",
      "  0.0173324738  0.0173324000  0.0173324130  0.0173323665  0.0173323390\n",
      "  0.0173322473  0.0173323390  0.0173323230  0.0173326592  0.0173325286\n",
      "  0.0173325852  0.0173324094  0.0173325852  0.0173324852  0.0173323021\n",
      "  0.0173326640  0.0173322986  0.0173326368  0.0173325846  0.0173328493\n",
      "  0.0173325671  0.0173325474  0.0173325641  0.0173322719  0.0173325641\n",
      "  0.0173325656  0.0173325671  0.0173331961  0.0173325641  0.0173329206\n",
      "  0.0173325641  0.0173332142  0.0173320160  0.0173328711  0.0173320125\n",
      "  0.0173328453  0.0173319920  0.0173328899  0.0173319950  0.0173325467\n",
      "  0.0173319920  0.0173325209  0.0173319920  0.0173325656  0.0173321591\n",
      "  0.0173328711  0.0173321561  0.0173328453  0.0173321561  0.0173328899] A\n",
      "\n"
     ]
    }
   ],
   "source": [
    "\n",
    "minimize=True\n",
    "\n",
    "\n",
    "Nx, Ny, Nz = (1,1,1) # 2x2x2 = 8 water molecules\n",
    "dx, dy, dz = (3,3,3) # water spaced 3A apart in each direction\n",
    "\n",
    "#Nx, Ny, Nz = (1,1,1) \n",
    "\n",
    "gridspec = [Nx,Ny,Nz,dx,dy,dz]\n",
    "\n",
    "n_atoms_per_mol = 3\n",
    "n_vsites_per_mol = 2\n",
    "np.set_printoptions(formatter={'float_kind': \"{:13.10f}\".format})\n",
    "\n",
    "if False:\n",
    "    minimize=True\n",
    "    print(\"===> EVALUATE SEPARATE OFF AND OMM MINIMIZATIONS <===\")\n",
    "\n",
    "    # default spacing of water is 2 Angstroms (dx,dy,dz arguments)\n",
    "    water_box = build_openff_water_lattice(*gridspec)\n",
    "\n",
    "    off_crds, off_ene = evaluate_water_off(water_box, off_ff, minimize=minimize)\n",
    "    off_crds = np.array(off_crds.value_in_unit(unit.angstrom))\n",
    "\n",
    "    omm_crds, omm_ene = evaluate_water_omm(water_box, omm_ff, minimize=minimize)\n",
    "    omm_crds = np.array(omm_crds.value_in_unit(unit.angstrom))\n",
    "\n",
    "    # constants for ordering (to compare positions)\n",
    "    # We assume here that system is homogenous for the reordering\n",
    "    omm_crds = reorder_openmm_to_openff(omm_crds, n_atoms_per_mol, n_vsites_per_mol)\n",
    "\n",
    "    # print_info(off_crds, off_ene, \"OpenForceField\")\n",
    "    # print_info(omm_crds, omm_ene, \"OpenMM\")\n",
    "    # print_info(off_crds - omm_crds, off_ene - omm_ene, \"OFF - OMM\")\n",
    "    print_info(np.linalg.norm(off_crds - omm_crds, axis=1), off_ene - omm_ene, \"OFF - OMM norm\")\n",
    "\n",
    "if True:\n",
    "    minimize=False\n",
    "    print(\"===> EVALUATE OFF AND OMM NO MINIMIZATION SINGLE POINT <===\")\n",
    "\n",
    "    # default spacing of water is 2 Angstroms (dx,dy,dz arguments)\n",
    "    water_box = build_openff_water_lattice(*gridspec)\n",
    "\n",
    "    off_crds, off_ene = evaluate_water_off(water_box, off_ff, minimize=minimize)\n",
    "    off_crds = np.array(off_crds.value_in_unit(unit.angstrom))\n",
    "\n",
    "    omm_crds, omm_ene = evaluate_water_omm(water_box, omm_ff, minimize=minimize)\n",
    "    omm_crds = np.array(omm_crds.value_in_unit(unit.angstrom))\n",
    "\n",
    "    # We assume here that system is homogenous for the reordering\n",
    "    omm_crds = reorder_openmm_to_openff(omm_crds, n_atoms_per_mol, n_vsites_per_mol)\n",
    "\n",
    "    # print_info(off_crds, off_ene, \"OpenForceField\")\n",
    "    # print_info(omm_crds, omm_ene, \"OpenMM\")\n",
    "    # print_info(off_crds - omm_crds, off_ene - omm_ene, \"OFF - OMM\")\n",
    "    print_info(np.linalg.norm(off_crds - omm_crds, axis=1), off_ene - omm_ene, \"OFF - OMM norm\")\n",
    "\n",
    "if False:\n",
    "    print(\"===> EVALUATE OMM MINUMUM WITH OFF SINGLE POINT <===\")\n",
    "    water_box = build_openff_water_lattice(*gridspec)\n",
    "    omm_crds, omm_ene = evaluate_water_omm(water_box, omm_ff, minimize=True)\n",
    "    omm_crds = np.array(omm_crds.value_in_unit(unit.angstrom))\n",
    "\n",
    "    # Need some machinery here to copy the minimized coordinates into the next single\n",
    "    # point calculation\n",
    "    omm_crds = reorder_openmm_to_openff(omm_crds, n_atoms_per_mol, n_vsites_per_mol)\n",
    "    for i,mol in enumerate(water_box):\n",
    "        pos = omm_crds[3*i:3*i + 3]\n",
    "        mol.conformers[0][:] = pos * unit.angstrom\n",
    "\n",
    "    off_crds, off_ene = evaluate_water_off(water_box, off_ff, minimize=False)\n",
    "    off_crds = np.array(off_crds.value_in_unit(unit.angstrom))\n",
    "\n",
    "    # print_info(omm_crds, omm_ene, \"OpenMM\")\n",
    "    # print_info(off_crds, off_ene, \"OpenForceField\")\n",
    "    # print_info(off_crds - omm_crds, off_ene - omm_ene, \"OFF - OMM\")\n",
    "    print_info(np.linalg.norm(off_crds - omm_crds, axis=1), off_ene - omm_ene, \"OFF - OMM norm\")\n",
    "\n",
    "if False:\n",
    "    print(\"===> EVALUATE OFF MINUMUM WITH OMM SINGLE POINT <===\")\n",
    "    water_box = build_openff_water_lattice(*gridspec)\n",
    "    off_crds, off_ene = evaluate_water_off(water_box, off_ff, minimize=True)\n",
    "    off_crds = np.array(off_crds.value_in_unit(unit.angstrom))\n",
    "\n",
    "    # copy the minimized coordinates, no shuffling needed\n",
    "    for i,mol in enumerate(water_box):\n",
    "        pos = off_crds[3*i:3*i + 3]\n",
    "        mol.conformers[0][:] = pos * unit.angstrom\n",
    "\n",
    "    omm_crds, omm_ene = evaluate_water_omm(water_box, omm_ff, minimize=False)\n",
    "    omm_crds = np.array(omm_crds.value_in_unit(unit.angstrom))\n",
    "    omm_crds = reorder_openmm_to_openff(omm_crds, n_atoms_per_mol, n_vsites_per_mol)\n",
    "\n",
    "    # print_info(omm_crds, omm_ene, \"OpenMM\")\n",
    "    # print_info(off_crds, off_ene, \"OpenForceField\")\n",
    "    # print_info(off_crds - omm_crds, off_ene - omm_ene, \"OFF - OMM\")\n",
    "    print_info(np.linalg.norm(off_crds - omm_crds, axis=1), off_ene - omm_ene, \"OFF - OMM norm\")\n"
   ]
  },
  {
   "cell_type": "code",
   "execution_count": 13,
   "metadata": {},
   "outputs": [
    {
     "data": {
      "text/plain": [
       "6.0"
      ]
     },
     "execution_count": 13,
     "metadata": {},
     "output_type": "execute_result"
    }
   ],
   "source": []
  },
  {
   "cell_type": "code",
   "execution_count": 14,
   "metadata": {},
   "outputs": [
    {
     "ename": "NameError",
     "evalue": "name 'off_sys' is not defined",
     "output_type": "error",
     "traceback": [
      "\u001b[0;31m---------------------------------------------------------------------------\u001b[0m",
      "\u001b[0;31mNameError\u001b[0m                                 Traceback (most recent call last)",
      "\u001b[0;32m<ipython-input-14-13ede9f61121>\u001b[0m in \u001b[0;36m<module>\u001b[0;34m\u001b[0m\n\u001b[0;32m----> 1\u001b[0;31m \u001b[0moff_sys\u001b[0m\u001b[0;34m\u001b[0m\u001b[0;34m\u001b[0m\u001b[0m\n\u001b[0m",
      "\u001b[0;31mNameError\u001b[0m: name 'off_sys' is not defined"
     ]
    }
   ],
   "source": []
  },
  {
   "cell_type": "code",
   "execution_count": null,
   "metadata": {},
   "outputs": [],
   "source": []
  }
 ],
 "metadata": {
  "kernelspec": {
   "display_name": "Python 3",
   "language": "python",
   "name": "python3"
  },
  "language_info": {
   "codemirror_mode": {
    "name": "ipython",
    "version": 3
   },
   "file_extension": ".py",
   "mimetype": "text/x-python",
   "name": "python",
   "nbconvert_exporter": "python",
   "pygments_lexer": "ipython3",
   "version": "3.7.6"
  }
 },
 "nbformat": 4,
 "nbformat_minor": 4
}
