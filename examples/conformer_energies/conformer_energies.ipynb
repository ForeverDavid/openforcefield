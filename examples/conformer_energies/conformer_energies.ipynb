{
 "cells": [
  {
   "cell_type": "markdown",
   "metadata": {},
   "source": [
    "# Compute conformer energies for a small molecule\n",
    "\n",
    "This notebook illustrates reading conformers of a molecule from an SDF file and computation of vacuum conformer energies using a SMIRNOFF force field."
   ]
  },
  {
   "cell_type": "code",
   "execution_count": 2,
   "metadata": {},
   "outputs": [],
   "source": [
    "# First, generate an example SDF file that contains multiple conformations of a molecule.\n",
    "# We illustrate how to do this using the Open Force Field toolkit, but you can use your own input files.\n",
    "from openforcefield.topology import Molecule\n",
    "#smiles = 'CC1=C(C(=CC=C1)Cl)NC(=O)C2=CN=C(S2)NC3=CC(=NC(=N3)C)N4CCN(CC4)CCO'\n",
    "smiles = 'C1CCC(C1)[C@@H](CC#N)N2C=C(C=N2)C3=C4C=CNC4=NC=N3'\n",
    "molecule = Molecule.from_smiles(smiles)\n",
    "conf_mol = Molecule.from_smiles(smiles)\n",
    "molecule.name = 'ruxolitinib'\n",
    "conf_mol.generate_conformers(n_conformers=10)\n",
    "for conf_idx in range(10):\n",
    "    molecule._conformers = None\n",
    "    molecule.add_conformer(conf_mol.conformers[conf_idx])\n",
    "    molecule.to_file(f'temp{conf_idx}.sdf', file_format='SDF')\n",
    "                        "
   ]
  },
  {
   "cell_type": "code",
   "execution_count": 3,
   "metadata": {},
   "outputs": [],
   "source": [
    "! rm dasatinib_conformers.sdf\n",
    "! cat temp*.sdf >> ruxolitinib_conformers.sdf"
   ]
  },
  {
   "cell_type": "code",
   "execution_count": 4,
   "metadata": {},
   "outputs": [
    {
     "name": "stdout",
     "output_type": "stream",
     "text": [
      "1 unique molecule(s) loaded, with 10 total conformers\n"
     ]
    }
   ],
   "source": [
    "# Load in the molecule and its conformers.\n",
    "# You would start here if you had your own SDF input files.\n",
    "# Note that all conformers of the same molecule are loaded as separate Molecule objects\n",
    "from openforcefield.topology import Molecule\n",
    "#loaded_molecules = Molecule.from_file('imatinib_conformers.sdf')\n",
    "loaded_molecules = Molecule.from_file('ruxolitinib_conformers.sdf')\n",
    "# Collatate all conformers of the same molecule\n",
    "# NOTE: This isn't necessary if you have already loaded or created multi-conformer molecules;\n",
    "# it is just needed because our SDF reader does not automatically collapse conformers.\n",
    "molecules = [loaded_molecules[0]]\n",
    "for molecule in loaded_molecules[1:]:\n",
    "    if molecule == molecules[-1]:\n",
    "        for conformer in molecule.conformers:\n",
    "            molecules[-1].add_conformer(conformer)\n",
    "    else:\n",
    "        molecules.append(molecule)\n",
    "\n",
    "n_molecules = len(molecules)\n",
    "n_conformers = sum([mol.n_conformers for mol in molecules])\n",
    "print(f'{n_molecules} unique molecule(s) loaded, with {n_conformers} total conformers')"
   ]
  },
  {
   "cell_type": "code",
   "execution_count": 5,
   "metadata": {},
   "outputs": [],
   "source": [
    "# Load the openff-1.0.0 force field appropriate for vacuum calculations (without constraints)\n",
    "from openforcefield.typing.engines.smirnoff import ForceField\n",
    "forcefield = ForceField('openff_unconstrained-1.0.0.offxml')"
   ]
  },
  {
   "cell_type": "code",
   "execution_count": 6,
   "metadata": {},
   "outputs": [
    {
     "name": "stdout",
     "output_type": "stream",
     "text": [
      "ruxolitinib : 10 conformers\n"
     ]
    },
    {
     "name": "stderr",
     "output_type": "stream",
     "text": [
      "Warning: In AmberToolsToolkitwrapper.compute_partial_charges_am1bcc: Molecule 'ruxolitinib' has more than one conformer, but this function will only generate charges for the first one.\n"
     ]
    },
    {
     "name": "stdout",
     "output_type": "stream",
     "text": [
      "Conformer     0 /    10 :   64.305 kcal/mol\n",
      "Conformer     1 /    10 :   74.356 kcal/mol\n",
      "Conformer     2 /    10 :  110.403 kcal/mol\n",
      "Conformer     3 /    10 :   70.649 kcal/mol\n",
      "Conformer     4 /    10 :   72.200 kcal/mol\n",
      "Conformer     5 /    10 :   73.798 kcal/mol\n",
      "Conformer     6 /    10 :   72.723 kcal/mol\n",
      "Conformer     7 /    10 :   62.585 kcal/mol\n",
      "Conformer     8 /    10 :   68.459 kcal/mol\n",
      "Conformer     9 /    10 :   70.575 kcal/mol\n"
     ]
    }
   ],
   "source": [
    "# Loop over molecules and compute energies of each conformer\n",
    "for molecule in molecules:\n",
    "    print('%s : %d conformers' % (molecule.name, molecule.n_conformers))\n",
    "    # Create an OpenMM System for the small molecule in vacuum\n",
    "    system = forcefield.create_openmm_system(molecule.to_topology())\n",
    "    # Compute energy for all conformers\n",
    "    from simtk import openmm, unit\n",
    "    integrator = openmm.VerletIntegrator(1*unit.femtoseconds)\n",
    "    platform = openmm.Platform.getPlatformByName('Reference')\n",
    "    context = openmm.Context(system, integrator, platform)\n",
    "    for conformer_index, conformer in enumerate(molecule.conformers):\n",
    "        context.setPositions(conformer)\n",
    "        potential = context.getState(getEnergy=True).getPotentialEnergy()\n",
    "        print('Conformer %5d / %5d : %8.3f kcal/mol' % (conformer_index, molecule.n_conformers, potential/unit.kilocalories_per_mole))\n",
    "    # Clean up OpenMM Context\n",
    "    del context, integrator"
   ]
  },
  {
   "cell_type": "code",
   "execution_count": null,
   "metadata": {},
   "outputs": [],
   "source": []
  }
 ],
 "metadata": {
  "kernelspec": {
   "display_name": "Python 3",
   "language": "python",
   "name": "python3"
  },
  "language_info": {
   "codemirror_mode": {
    "name": "ipython",
    "version": 3
   },
   "file_extension": ".py",
   "mimetype": "text/x-python",
   "name": "python",
   "nbconvert_exporter": "python",
   "pygments_lexer": "ipython3",
   "version": "3.7.6"
  }
 },
 "nbformat": 4,
 "nbformat_minor": 4
}
