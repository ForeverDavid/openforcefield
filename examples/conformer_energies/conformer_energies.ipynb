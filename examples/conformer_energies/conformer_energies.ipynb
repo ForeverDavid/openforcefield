{
 "cells": [
  {
   "cell_type": "markdown",
   "metadata": {},
   "source": [
    "# Compute conformer energies for a small molecule\n",
    "\n",
    "This notebook illustrates reading conformers of a molecule from an SDF file and computation of vacuum conformer energies using a SMIRNOFF force field."
   ]
  },
  {
   "cell_type": "code",
   "execution_count": 1,
   "metadata": {},
   "outputs": [
    {
     "name": "stderr",
     "output_type": "stream",
     "text": [
      "RDKit WARNING: [17:59:02] Enabling RDKit 2019.09.3 jupyter extensions\n"
     ]
    }
   ],
   "source": [
    "# First, generate an example SDF file that contains multiple conformations of a molecule.\n",
    "# We illustrate how to do this using the Open Force Field toolkit, but you can use your own input files.\n",
    "from openforcefield.topology import Molecule\n",
    "smiles = 'Cc1ccc(cc1Nc2nccc(n2)c3cccnc3)NC(=O)c4ccc(cc4)CN5CCN(CC5)C'\n",
    "molecule = Molecule.from_smiles(smiles)\n",
    "molecule.name = 'imatinib'\n",
    "molecule.generate_conformers(n_conformers=10)\n",
    "molecule.to_file('imatinib.sdf', file_format='SDF')"
   ]
  },
  {
   "cell_type": "code",
   "execution_count": 2,
   "metadata": {},
   "outputs": [
    {
     "name": "stdout",
     "output_type": "stream",
     "text": [
      "1 unique molecule(s) loaded\n"
     ]
    }
   ],
   "source": [
    "# Load in the molecule and its conformers.\n",
    "# You would start here if you had your own SDF input files.\n",
    "# Note that all conformers of the same molecule are loaded as separate Molecule objects\n",
    "from openforcefield.topology import Molecule\n",
    "loaded_molecules = Molecule.from_file('imatinib.sdf')\n",
    "# Collatate all conformers of the same molecule\n",
    "# NOTE: This isn't necessary if you have already loaded or created multi-conformer molecules;\n",
    "# it is just needed because our SDF reader does not automatically collapse conformers.\n",
    "molecules = [loaded_molecules[0]]\n",
    "for molecule in loaded_molecules[1:]:\n",
    "    if molecule == molecules[-1]:\n",
    "        for conformer in molecule.conformers:\n",
    "            molecules[-1].add_conformer(conformer)\n",
    "    else:\n",
    "        molecules.append(molecule)\n",
    "print('%d unique molecule(s) loaded' % len(molecules))"
   ]
  },
  {
   "cell_type": "code",
   "execution_count": 3,
   "metadata": {},
   "outputs": [],
   "source": [
    "# Load the openff-1.0.0 force field appropriate for vacuum calculations (without constraints)\n",
    "from openforcefield.typing.engines.smirnoff import ForceField\n",
    "forcefield = ForceField('openff_unconstrained-1.0.0.offxml')"
   ]
  },
  {
   "cell_type": "code",
   "execution_count": 4,
   "metadata": {},
   "outputs": [
    {
     "name": "stdout",
     "output_type": "stream",
     "text": [
      "imatinib : 10 conformers\n",
      "Conformer     0 /    10 :   66.129 kcal/mol\n",
      "Conformer     1 /    10 :   65.610 kcal/mol\n",
      "Conformer     2 /    10 :   66.404 kcal/mol\n",
      "Conformer     3 /    10 :   65.941 kcal/mol\n",
      "Conformer     4 /    10 :   67.961 kcal/mol\n",
      "Conformer     5 /    10 :   68.428 kcal/mol\n",
      "Conformer     6 /    10 :   62.920 kcal/mol\n",
      "Conformer     7 /    10 :   63.609 kcal/mol\n",
      "Conformer     8 /    10 :   66.199 kcal/mol\n",
      "Conformer     9 /    10 :   63.290 kcal/mol\n"
     ]
    }
   ],
   "source": [
    "# Loop over molecules and compute energies of each conformer\n",
    "for molecule in molecules:\n",
    "    print('%s : %d conformers' % (molecule.name, molecule.n_conformers))\n",
    "    # Create an OpenMM System for the small molecule in vacuum\n",
    "    system = forcefield.create_openmm_system(molecule.to_topology())\n",
    "    # Compute energy for all conformers\n",
    "    from simtk import openmm, unit\n",
    "    integrator = openmm.VerletIntegrator(1*unit.femtoseconds)\n",
    "    platform = openmm.Platform.getPlatformByName('Reference')\n",
    "    context = openmm.Context(system, integrator, platform)\n",
    "    for conformer_index, conformer in enumerate(molecule.conformers):\n",
    "        context.setPositions(conformer)\n",
    "        potential = context.getState(getEnergy=True).getPotentialEnergy()\n",
    "        print('Conformer %5d / %5d : %8.3f kcal/mol' % (conformer_index, molecule.n_conformers, potential/unit.kilocalories_per_mole))\n",
    "    # Clean up OpenMM Context\n",
    "    del context, integrator"
   ]
  }
 ],
 "metadata": {
  "kernelspec": {
   "display_name": "Python 3",
   "language": "python",
   "name": "python3"
  },
  "language_info": {
   "codemirror_mode": {
    "name": "ipython",
    "version": 3
   },
   "file_extension": ".py",
   "mimetype": "text/x-python",
   "name": "python",
   "nbconvert_exporter": "python",
   "pygments_lexer": "ipython3",
   "version": "3.7.6"
  }
 },
 "nbformat": 4,
 "nbformat_minor": 4
}
