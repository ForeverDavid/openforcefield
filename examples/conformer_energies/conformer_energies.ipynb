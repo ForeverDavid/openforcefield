{
 "cells": [
  {
   "cell_type": "markdown",
   "metadata": {},
   "source": [
    "# Compute conformer energies for a small molecule\n",
    "\n",
    "This notebook illustrates reading conformers of a molecule from an SDF file and computation of vacuum conformer energies using a SMIRNOFF force field.\n",
    "\n",
    "Note that absolute vacuum potential energies can be sensitive to small changes in partial charge, for example due to using OpenEye or AmberTools to generate AM1-BCC charges. However, in our experience, _relative_ conformer energies are fairly consistent between AM1-BCC implementations."
   ]
  },
  {
   "cell_type": "code",
   "execution_count": 1,
   "metadata": {},
   "outputs": [
    {
     "name": "stderr",
     "output_type": "stream",
     "text": [
      "Warning: Unable to load toolkit 'OpenEye Toolkit'. The Open Force Field Toolkit does not require the OpenEye Toolkits, and can use RDKit/AmberTools instead. However, if you have a valid license for the OpenEye Toolkits, consider installing them for faster performance and additional file format support: https://docs.eyesopen.com/toolkits/python/quickstart-python/linuxosx.html OpenEye offers free Toolkit licenses for academics: https://www.eyesopen.com/academic-licensing\n",
      "RDKit WARNING: [17:42:38] Enabling RDKit 2019.09.3 jupyter extensions\n"
     ]
    },
    {
     "name": "stdout",
     "output_type": "stream",
     "text": [
      "1 unique molecule(s) loaded, with 10 total conformers\n"
     ]
    }
   ],
   "source": [
    "# Load in the molecule and its conformers.\n",
    "# Note that all conformers of the same molecule are loaded as separate Molecule objects\n",
    "from openforcefield.topology import Molecule, Topology\n",
    "from openforcefield.utils import RDKitToolkitWrapper\n",
    "from rdkit.Chem import rdMolAlign\n",
    "import numpy as np\n",
    "from simtk import openmm, unit\n",
    "# If using a OFF Toolkit version before 0.7.0, loading SDFs through RDKit and OpenEye may provide \n",
    "# different behavior in some cases. So, here we force loading through RDKit to ensure the correct behavior\n",
    "rdktkw = RDKitToolkitWrapper()\n",
    "loaded_molecules = Molecule.from_file('ruxolitinib_conformers.sdf', toolkit_registry=rdktkw)\n",
    "# Collatate all conformers of the same molecule\n",
    "# NOTE: This isn't necessary if you have already loaded or created multi-conformer molecules;\n",
    "# it is just needed because our SDF reader does not automatically collapse conformers.\n",
    "molecules = [loaded_molecules[0]]\n",
    "for molecule in loaded_molecules[1:]:\n",
    "    if molecule == molecules[-1]:\n",
    "        for conformer in molecule.conformers:\n",
    "            molecules[-1].add_conformer(conformer)\n",
    "    else:\n",
    "        molecules.append(molecule)\n",
    "\n",
    "n_molecules = len(molecules)\n",
    "n_conformers = sum([mol.n_conformers for mol in molecules])\n",
    "print(f'{n_molecules} unique molecule(s) loaded, with {n_conformers} total conformers')"
   ]
  },
  {
   "cell_type": "code",
   "execution_count": 2,
   "metadata": {},
   "outputs": [],
   "source": [
    "# Load the openff-1.1.0 force field appropriate for vacuum calculations (without constraints)\n",
    "from openforcefield.typing.engines.smirnoff import ForceField\n",
    "forcefield = ForceField('openff_unconstrained-1.1.0.offxml')"
   ]
  },
  {
   "cell_type": "code",
   "execution_count": null,
   "metadata": {},
   "outputs": [
    {
     "name": "stdout",
     "output_type": "stream",
     "text": [
      "ruxolitinib : 10 conformers\n",
      "Parametrizing ruxolitinib (may take a moment to calculate charges)\n"
     ]
    },
    {
     "name": "stderr",
     "output_type": "stream",
     "text": [
      "Warning: In AmberToolsToolkitwrapper.compute_partial_charges_am1bcc: Molecule 'ruxolitinib' has more than one conformer, but this function will only generate charges for the first one.\n"
     ]
    }
   ],
   "source": [
    "# Loop over molecules and minimize each conformer\n",
    "for molecule in molecules:\n",
    "    # If the molecule doesn't have a name, set mol.name to be the hill formula\n",
    "    if molecule.name == '':\n",
    "        molecule.name = Topology._networkx_to_hill_formula(molecule.to_networkx())\n",
    "    print('%s : %d conformers' % (molecule.name, molecule.n_conformers))\n",
    "    # Make a temporary copy of the molecule that we can update for each minimization\n",
    "    mol_copy = Molecule(molecule)\n",
    "    # Make an OpenFF Topology so we can parameterize the system\n",
    "    off_top = molecule.to_topology()\n",
    "    print(f\"Parametrizing {molecule.name} (may take a moment to calculate charges)\")\n",
    "    system = forcefield.create_openmm_system(off_top)\n",
    "    # Use OpenMM to compute initial and minimized energy for all conformers\n",
    "    integrator = openmm.VerletIntegrator(1*unit.femtoseconds)\n",
    "    platform = openmm.Platform.getPlatformByName('Reference')\n",
    "    omm_top = off_top.to_openmm()\n",
    "    simulation = openmm.app.Simulation(omm_top, system, integrator, platform)\n",
    "    \n",
    "    # Print text header\n",
    "    print('Conformer         Initial PE         Minimized PE       RMS between initial and minimized conformer')\n",
    "    for conformer_index, conformer in enumerate(molecule.conformers):\n",
    "        simulation.context.setPositions(conformer)\n",
    "        orig_potential = simulation.context.getState(getEnergy=True).getPotentialEnergy()\n",
    "        simulation.minimizeEnergy()\n",
    "        min_state = simulation.context.getState(getEnergy=True, getPositions=True)\n",
    "        min_potential = min_state.getPotentialEnergy()\n",
    "        \n",
    "        # Calculate the RMSD between the initial and minimized conformer\n",
    "        min_coords = min_state.getPositions()\n",
    "        min_coords = np.array([ [atom.x, atom.y, atom.z] for atom in min_coords]) * unit.nanometer\n",
    "        mol_copy._conformers = None\n",
    "        mol_copy.add_conformer(conformer)\n",
    "        mol_copy.add_conformer(min_coords)\n",
    "        rdmol = mol_copy.to_rdkit()\n",
    "        rmslist = []\n",
    "        rdMolAlign.AlignMolConformers(rdmol, RMSlist=rmslist)\n",
    "        minimization_rms = rmslist[0]\n",
    "\n",
    "        # Save the minimized conformer to file\n",
    "        mol_copy._conformers = None\n",
    "        mol_copy.add_conformer(min_coords)\n",
    "        mol_copy.to_file(f'{molecule.name}_conf{conformer_index}_minimized.sdf', file_format='sdf')\n",
    "        print('%5d / %5d : %8.3f kcal/mol %8.3f kcal/mol  %8.3f Angstroms' % (conformer_index+1, molecule.n_conformers, orig_potential/unit.kilocalories_per_mole, min_potential/unit.kilocalories_per_mole, minimization_rms))\n",
    "    # Clean up OpenMM Simulation\n",
    "    del simulation, integrator"
   ]
  }
 ],
 "metadata": {
  "kernelspec": {
   "display_name": "Python 3",
   "language": "python",
   "name": "python3"
  },
  "language_info": {
   "codemirror_mode": {
    "name": "ipython",
    "version": 3
   },
   "file_extension": ".py",
   "mimetype": "text/x-python",
   "name": "python",
   "nbconvert_exporter": "python",
   "pygments_lexer": "ipython3",
   "version": "3.7.6"
  }
 },
 "nbformat": 4,
 "nbformat_minor": 4
}
