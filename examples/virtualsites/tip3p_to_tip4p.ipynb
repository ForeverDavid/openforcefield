{
 "cells": [
  {
   "cell_type": "markdown",
   "metadata": {},
   "source": [
    "# Convert TIP3P into TIP4P as a test for how to handle virtual sites\n",
    "\n",
    "The TIP4P model of water is shown at http://www.sklogwiki.org/SklogWiki/index.php/TIP4P_model_of_water ; TIP3P at http://www.sklogwiki.org/SklogWiki/index.php/TIP3P_model_of_water; this notebook roughly draws on these.\n",
    "\n",
    "Our initial work is to simply generate TIP4P from TIP3P. After that we will attempt to validate that we have correctly generated TIP4P by validating OUR TIP4P energies against those from a saved system.\n",
    "\n",
    "## Do some setup and imports"
   ]
  },
  {
   "cell_type": "code",
   "execution_count": 15,
   "metadata": {
    "collapsed": true
   },
   "outputs": [],
   "source": [
    "from simtk.openmm.app import *\n",
    "from simtk.openmm import *\n",
    "from simtk import unit\n",
    "from sys import stdout\n",
    "import numpy as np\n",
    "from mdtraj.formats.gro import load_gro\n",
    "import parmed\n",
    "from copy import deepcopy"
   ]
  },
  {
   "cell_type": "code",
   "execution_count": 16,
   "metadata": {
    "collapsed": true
   },
   "outputs": [],
   "source": [
    "# Example compute_potential function from John Chodera\n",
    "def compute_potential(system, positions):\n",
    "    integrator = openmm.VerletIntegrator(1.0 * unit.femtoseconds)\n",
    "    context = openmm.Context(system, integrator)\n",
    "    context.setPositions(positions)\n",
    "    context.applyConstraints(1.0e-5) # applyConstraints() or computeVirtualSites() required for virtual site position computation\n",
    "    potential = context.getState(getEnergy=True).getPotentialEnergy()\n",
    "    del context, integrator\n",
    "    return potential"
   ]
  },
  {
   "cell_type": "markdown",
   "metadata": {},
   "source": [
    "## Load the TIP3P System and set it up"
   ]
  },
  {
   "cell_type": "code",
   "execution_count": 17,
   "metadata": {
    "collapsed": true
   },
   "outputs": [],
   "source": [
    "# Prep the original system with TIP3P\n",
    "# Load PDB\n",
    "pdb = PDBFile('spc216.pdb')\n",
    "# Load normal OpenMM water forcefield\n",
    "forcefield = ForceField( 'tip3p.xml')\n",
    "# get periodic box vectors\n",
    "gro = load_gro('spc216.gro')\n",
    "pdb.topology.setPeriodicBoxVectors(gro.openmm_boxes(0))\n",
    "\n",
    "system = forcefield.createSystem(pdb.topology, nonbondedMethod=PME,\n",
    "        nonbondedCutoff=0.6*unit.nanometer, constraints=HBonds, rigidWater = True)"
   ]
  },
  {
   "cell_type": "markdown",
   "metadata": {},
   "source": [
    "## Build a new System and Topology with extra points/virtual sites\n",
    "\n",
    "All blocks in this section should probably be run together\n",
    "\n",
    "### First do some index bookkeeping"
   ]
  },
  {
   "cell_type": "code",
   "execution_count": 36,
   "metadata": {
    "collapsed": true
   },
   "outputs": [],
   "source": [
    "# Store indices of which hydrogen atoms are connected to which oxygen atom (by index) for use in adding virtual sites \n",
    "oxygen_hydrogens = {}\n",
    "for residue in pdb.topology.residues():\n",
    "    \n",
    "    oxygen_index = None\n",
    "    hydrogen_indices = []\n",
    "    for atom in residue.atoms():\n",
    "        if atom.element.name=='oxygen':\n",
    "            oxygen_index = atom.index\n",
    "        elif atom.element.name=='hydrogen':\n",
    "            hydrogen_indices.append(atom.index)\n",
    "        oxygen_hydrogens[oxygen_index] = hydrogen_indices\n"
   ]
  },
  {
   "cell_type": "markdown",
   "metadata": {},
   "source": [
    "### Build new System and Topology"
   ]
  },
  {
   "cell_type": "code",
   "execution_count": 42,
   "metadata": {
    "collapsed": true
   },
   "outputs": [],
   "source": [
    "# Build a new System and Topology where we add the virtual sites/extra points; we modify the charges on\n",
    "# the existing atoms at the same time\n",
    "\n",
    "newSystem = System()\n",
    "newTopology = Topology()\n",
    "positions = pdb.getPositions()\n",
    "newTopology.setPeriodicBoxVectors(pdb.topology.getPeriodicBoxVectors())\n",
    "newAtoms = {}\n",
    "#newExtraPoints = {}\n",
    "kwargs = {} # Figure out what values here should be\n",
    "kwargs['nonbondedMethod']=PME\n",
    "kwargs['nonbondedCutoff']=0.6*unit.nanometer\n",
    "oldindex_to_newindex = {}\n",
    "newindex_to_oldindex = {}\n",
    "vsite_indices_by_atom = {}\n",
    "hydrogens_by_residue = {}\n",
    "oxygens_by_residue = {}\n",
    "\n",
    "boxVectors = newTopology.getPeriodicBoxVectors()\n",
    "if boxVectors is not None:\n",
    "        newSystem.setDefaultPeriodicBoxVectors(boxVectors[0], boxVectors[1], boxVectors[2])\n",
    "\n",
    "\n",
    "# Most straightforward procedure, I think, is to NOT do as I've started to do below, and instead:\n",
    "# (a) Create System and Topology containing all of the desired atoms/residues (basically this is what ParmEd assumes -- System already has particles: https://github.com/ParmEd/ParmEd/blob/master/parmed/structure.py#L2161-L2197)\n",
    "# (b) go through and add virtual sites and exceptions\n",
    "# (c) Go through and copy over remaining forces\n",
    "\n",
    "# Retrieve the old NonbondedForce\n",
    "for force in system.getForces():\n",
    "    if isinstance(force, openmm.NonbondedForce):\n",
    "        #print(force)\n",
    "        break\n",
    "\n",
    "# Let's start on (a), building the System/Topology; particles occur as nonbonded forces\n",
    "newForce = openmm.NonbondedForce()\n",
    "newSystem.addForce(newForce)\n",
    "for chain in pdb.topology.chains():\n",
    "    newChain = newTopology.addChain(chain.id)\n",
    "    for residue in chain.residues():\n",
    "        newResidue = newTopology.addResidue(residue.name, newChain, residue.id)\n",
    "        hydrogens_by_residue[newResidue.index] = []\n",
    "        for atom in residue.atoms():\n",
    "            # Add an atom corresponding to this particle to the new Topology\n",
    "            newAtoms[atom] = newTopology.addAtom(atom.name, atom.element, newResidue)\n",
    "            oldindex_to_newindex[atom.index] = newAtoms[atom].index\n",
    "            newindex_to_oldindex[newAtoms[atom].index] = atom.index\n",
    "\n",
    "            # Get particle parameters which were used\n",
    "            chg, sigma, epsilon = force.getParticleParameters(atom.index)\n",
    "\n",
    "            # Add a particle with those parameters to the new System/force\n",
    "            newForce.addParticle(chg, sigma, epsilon)\n",
    "            newSystem.addParticle(atom.element.mass)\n",
    "            \n",
    "            # If it's an oxygen, trigger addition of a new particle which will be the virtual site\n",
    "            if atom.element.name=='oxygen':\n",
    "                # Add to system/force\n",
    "                # See https://gist.github.com/anonymous/be8693af41fe070638a27a834cfcb7e9 for how to work with virtual sites\n",
    "                virtual_site_index = newSystem.addParticle(0.0 * unit.amu) # mass can be zero\n",
    "                nonbonded_site_index = newForce.addParticle(-1.04*unit.elementary_charge, 0.0, 0.0) \n",
    "\n",
    "                # Check that these indices match, otherwise we're in trouble...\n",
    "                assert virtual_site_index == nonbonded_site_index\n",
    "                \n",
    "                # Add to Topology\n",
    "                topology_atom = newTopology.addAtom('VS', None, newResidue)\n",
    "                assert topology_atom.index == virtual_site_index\n",
    "                \n",
    "                # Store index of virtual site, indexed by index of this oxygen\n",
    "                vsite_indices_by_atom[newAtoms[atom].index] = virtual_site_index\n",
    "                \n",
    "                # Store oxygen index\n",
    "                oxygens_by_residue[newResidue.index] = newAtoms[atom].index\n",
    "            \n",
    "            elif atom.element.name=='hydrogen':\n",
    "                hydrogens_by_residue[newResidue.index].append( newAtoms[atom].index )\n",
    "            \n",
    "            # Store conversion from old to new indices\n",
    "            oldindex_to_newindex[atom.index] = newAtoms[atom].index\n"
   ]
  },
  {
   "cell_type": "markdown",
   "metadata": {},
   "source": [
    "## Update parameters to convert into TIP4P\n",
    "\n",
    "(This should be run after the above and not repeated)"
   ]
  },
  {
   "cell_type": "code",
   "execution_count": 43,
   "metadata": {},
   "outputs": [
    {
     "name": "stdout",
     "output_type": "stream",
     "text": [
      "1296\n"
     ]
    }
   ],
   "source": [
    "#(b) Go through system and add virtual sites and exceptions\n",
    "# Also modify parameters of TIP3P oxygens and hydrogens at the same time to make consistent with TIP4P\n",
    "\n",
    "# Retrieve the NonbondedForce\n",
    "for force in newSystem.getForces():\n",
    "    if isinstance(force, openmm.NonbondedForce):\n",
    "        break\n",
    "\n",
    "# Loop over residues, making changes to atoms and adding virtual site parameters\n",
    "for residue in oxygens_by_residue:\n",
    "    # Modify oxygen atom\n",
    "    oxygenatom = oxygens_by_residue[residue]\n",
    "    chg, sigma, epsilon = force.getParticleParameters(oxygenatom)\n",
    "    force.setParticleParameters(oxygenatom, 0.*unit.elementary_charge, 3.154*unit.angstrom, 0.6480*unit.kilojoule_per_mole) \n",
    "                \n",
    "    # Modify hydrogen atoms\n",
    "    for hydrogenatom in hydrogens_by_residue[residue]:\n",
    "        # Set hydrogen charge to 0.52\n",
    "        chg, sigma, epsilon = force.getParticleParameters(hydrogenatom)\n",
    "        force.setParticleParameters(hydrogenatom, 0.52*unit.elementary_charge, sigma, epsilon)\n",
    "        \n",
    "    # Add virtual site\n",
    "    # see https://github.com/open-forcefield-group/openforcefield/pull/67#issuecomment-339398603\n",
    "    site = LocalCoordinatesSite([oxygenatom, hydrogens_by_residue[residue][0], hydrogens_by_residue[residue][1]],\\\n",
    "                                       [1, 0, 0], [-1, 0.5, 0.5],[0.5, -0.5, 0],\\\n",
    "                                       [-0.015, 0, 0]) #WARNING: LocalCoordinatesSite does not take units; uses nanometers\n",
    "    virtual_site_index = vsite_indices_by_atom[oxygenatom]\n",
    "    newSystem.setVirtualSite(virtual_site_index, site)\n",
    "            \n",
    "    # Add exceptions involving the virtual site\n",
    "    force.addException( virtual_site_index, oxygenatom, 0.0, 0.0, 0.0) #No interactions\n",
    "    force.addException( virtual_site_index, hydrogens_by_residue[residue][0], 0.0, 0.0, 0.0)\n",
    "    force.addException( virtual_site_index, hydrogens_by_residue[residue][1], 0.0, 0.0, 0.0)\n",
    "    \n",
    "    # Add original exceptions\n",
    "    force.addException( oxygenatom, hydrogens_by_residue[residue][0], 0.0, 0.0, 0.0)\n",
    "    force.addException( oxygenatom, hydrogens_by_residue[residue][1], 0.0, 0.0, 0.0)\n",
    "    force.addException( hydrogens_by_residue[residue][0], hydrogens_by_residue[residue][1], 0.0, 0.0, 0.0)\n",
    "    \n",
    "    # Add constraints\n",
    "    newSystem.addConstraint( oxygenatom, hydrogens_by_residue[residue][0], 0.9572*unit.angstrom)\n",
    "    newSystem.addConstraint( oxygenatom, hydrogens_by_residue[residue][1], 0.9572*unit.angstrom)\n",
    "    # Angle constraint comes in via trig -- 104.52 degrees results in a particular distance\n",
    "    r_HH = 2.*0.9572*unit.angstroms*np.sin(104.52/2.*np.pi/180.)\n",
    "    newSystem.addConstraint( hydrogens_by_residue[residue][0], hydrogens_by_residue[residue][1], r_HH)\n",
    "    \n",
    "#Form will be:\n",
    "#newTopology.constrainAtomPair( index1, index2, constraint_distance)\n",
    "print(force.getNumExceptions())"
   ]
  },
  {
   "cell_type": "code",
   "execution_count": 44,
   "metadata": {},
   "outputs": [
    {
     "name": "stdout",
     "output_type": "stream",
     "text": [
      "0 bonds...\n",
      "There are 0 angle forces\n",
      "<simtk.openmm.openmm.CMMotionRemover; proxy of <Swig Object of type 'OpenMM::CMMotionRemover *' at 0x12564c6f0> >\n"
     ]
    }
   ],
   "source": [
    "#(c) Go through system and copy over remaining forces, using appropriate atom indices\n",
    "# I don't think this actually has to be done here, except possibly COMM remover, as there ARE no other forces\n",
    "\n",
    "for force in system.getForces():\n",
    "    if isinstance(force, openmm.NonbondedForce):\n",
    "        continue\n",
    "    elif isinstance(force, openmm.HarmonicBondForce):\n",
    "        print(\"%s bonds...\" % force.getNumBonds())\n",
    "    elif isinstance(force, openmm.HarmonicAngleForce):\n",
    "        print(\"There are %s angle forces\" % force.getNumAngles())\n",
    "    else:\n",
    "        print(force)\n",
    "\n"
   ]
  },
  {
   "cell_type": "markdown",
   "metadata": {},
   "source": [
    "## Generate new starting positions for this system\n",
    "\n",
    "We copy over the appropriate old coordinates, and just make dummy coordinates for the virtual sites, which will get updated by computing the virtual sites below."
   ]
  },
  {
   "cell_type": "code",
   "execution_count": 45,
   "metadata": {
    "collapsed": true
   },
   "outputs": [],
   "source": [
    "# Generate positions appropriate for new system\n",
    "newPositions = []*unit.nanometer\n",
    "for atomidx in range(newSystem.getNumParticles()):\n",
    "    if atomidx in newindex_to_oldindex:\n",
    "        newPositions.append( pdb.positions[newindex_to_oldindex[atomidx]])\n",
    "    else:  newPositions.append( [0.,0.,0.]*unit.angstrom)"
   ]
  },
  {
   "cell_type": "markdown",
   "metadata": {},
   "source": [
    "## Energy minimize and dump out coordinates\n",
    "We use a reporter to dump to `water_out.pdb`; it should end up with two frames, the first of which is the initial coordinates and the second is the final coordinates after minimization.\n",
    "\n",
    "I inspected via PyMol and this appears reasonable."
   ]
  },
  {
   "cell_type": "code",
   "execution_count": 46,
   "metadata": {},
   "outputs": [
    {
     "name": "stdout",
     "output_type": "stream",
     "text": [
      "Distance from oxygen to virtual site:  0.014999999996318784 nm\n",
      "Energy before minimization (kcal/mol): -4343.1721\n",
      "Energy after minimization (kcal/mol): -6673.7534\n"
     ]
    }
   ],
   "source": [
    "# Try minimizing\n",
    "\n",
    "integrator = openmm.VerletIntegrator(2.0*unit.femtoseconds)\n",
    "simulation = app.Simulation(newTopology, newSystem, integrator) \n",
    "simulation.context.setPositions( newPositions) # Use new positions created above\n",
    "#simulation.context.applyConstraints(1.0e-5) # applyConstraints() or computeVirtualSites() required for virtual site position computation\n",
    "simulation.context.computeVirtualSites()\n",
    "\n",
    "pdb_reporter = PDBReporter('water_out.pdb', 1)\n",
    "simulation.reporters.append(pdb_reporter)\n",
    "state = simulation.context.getState(getEnergy=True, getPositions=True)\n",
    "pdb_reporter.report(simulation, state)\n",
    "updated_positions = state.getPositions()\n",
    "\n",
    "# Print info about distance from first oxygen atom to its virtual site\n",
    "oxygen_index = oxygens_by_residue[0]\n",
    "virtual_site_index = vsite_indices_by_atom[oxygens_by_residue[0]]\n",
    "oxygen_pos = updated_positions[oxygen_index]\n",
    "vsite_pos = updated_positions[virtual_site_index]\n",
    "print(\"Distance from oxygen to virtual site: \", np.sqrt(np.dot(oxygen_pos-vsite_pos, oxygen_pos-vsite_pos)))\n",
    "\n",
    "\n",
    "energy = state.getPotentialEnergy() / unit.kilocalories_per_mole\n",
    "print(\"Energy before minimization (kcal/mol): %.8g\" % energy)\n",
    "\n",
    "# Minimize energy, printing energy before and after\n",
    "simulation.minimizeEnergy()\n",
    "state = simulation.context.getState(getEnergy=True, getPositions=True)\n",
    "energy = state.getPotentialEnergy() / unit.kilocalories_per_mole\n",
    "print(\"Energy after minimization (kcal/mol): %.8g\" % energy)\n",
    "newpositions = state.getPositions()\n",
    "pdb_reporter.report(simulation, state)"
   ]
  },
  {
   "cell_type": "markdown",
   "metadata": {},
   "source": [
    "## Next steps from here\n",
    "\n",
    "Now that the above appears to be working, logical next steps would be to:\n",
    "- Make sure new system uses periodic boundary conditions/PME/constraints/rigid water\n",
    "- Try short dynamics to make sure stable\n",
    "- Cross-check energies against a normal TIP4P topology\n",
    "  - atom order here will be different so we have to be careful in coordinate swapping\n",
    "  - basically set up this system and a \"standard\" OpenMM TIP4P system; use equivalent positions and a single point energy evaluation to ensure they yield the same energy"
   ]
  },
  {
   "cell_type": "code",
   "execution_count": null,
   "metadata": {
    "collapsed": true
   },
   "outputs": [],
   "source": []
  }
 ],
 "metadata": {
  "kernelspec": {
   "display_name": "Python 3",
   "language": "python",
   "name": "python3"
  },
  "language_info": {
   "codemirror_mode": {
    "name": "ipython",
    "version": 3
   },
   "file_extension": ".py",
   "mimetype": "text/x-python",
   "name": "python",
   "nbconvert_exporter": "python",
   "pygments_lexer": "ipython3",
   "version": "3.6.2"
  },
  "toc": {
   "nav_menu": {},
   "number_sections": true,
   "sideBar": true,
   "skip_h1_title": false,
   "toc_cell": false,
   "toc_position": {},
   "toc_section_display": "block",
   "toc_window_display": false
  }
 },
 "nbformat": 4,
 "nbformat_minor": 2
}
