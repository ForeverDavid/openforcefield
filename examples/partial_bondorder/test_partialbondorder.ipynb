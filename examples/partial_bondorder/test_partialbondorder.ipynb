{
 "cells": [
  {
   "cell_type": "markdown",
   "metadata": {},
   "source": [
    "# Partial bond orders and benzene\n",
    "\n",
    "This notebook applies a SMIRFF FFXML involving partial bond orders (reducing the number of parameters) to assign bond parameters for benzene. "
   ]
  },
  {
   "cell_type": "code",
   "execution_count": 1,
   "metadata": {
    "collapsed": true
   },
   "outputs": [],
   "source": [
    "# Import stuff we need\n",
    "from openforcefield.typing.engines.smirnoff import *\n",
    "import openeye.oechem as oechem\n",
    "import openeye.oeiupac as oeiupac\n",
    "import openeye.oeomega as oeomega"
   ]
  },
  {
   "cell_type": "code",
   "execution_count": 9,
   "metadata": {
    "collapsed": false
   },
   "outputs": [
    {
     "ename": "Exception",
     "evalue": "Opening and ending tag mismatch: SMIRNOFF line 3 and SMIRFF, line 71, column 14 (Frosst_AlkEtOH_extracarbons.ffxml, line 71)\nForceField.loadFile() encountered an error reading file 'Frosst_AlkEtOH_extracarbons.ffxml'\n",
     "output_type": "error",
     "traceback": [
      "\u001b[0;31m---------------------------------------------------------------------------\u001b[0m",
      "\u001b[0;31mXMLSyntaxError\u001b[0m                            Traceback (most recent call last)",
      "\u001b[0;32m/Users/bannanc/anaconda3/lib/python3.6/site-packages/openforcefield/typing/engines/smirnoff/forcefield.py\u001b[0m in \u001b[0;36mloadFile\u001b[0;34m(self, files)\u001b[0m\n\u001b[1;32m    555\u001b[0m                 \u001b[0;31m# this handles either filenames or open file-like objects\u001b[0m\u001b[0;34m\u001b[0m\u001b[0;34m\u001b[0m\u001b[0m\n\u001b[0;32m--> 556\u001b[0;31m                 \u001b[0mtree\u001b[0m \u001b[0;34m=\u001b[0m \u001b[0metree\u001b[0m\u001b[0;34m.\u001b[0m\u001b[0mparse\u001b[0m\u001b[0;34m(\u001b[0m\u001b[0mfile\u001b[0m\u001b[0;34m,\u001b[0m \u001b[0mparser\u001b[0m\u001b[0;34m)\u001b[0m\u001b[0;34m\u001b[0m\u001b[0m\n\u001b[0m\u001b[1;32m    557\u001b[0m             \u001b[0;32mexcept\u001b[0m \u001b[0mIOError\u001b[0m\u001b[0;34m:\u001b[0m\u001b[0;34m\u001b[0m\u001b[0m\n",
      "\u001b[0;32msrc/lxml/lxml.etree.pyx\u001b[0m in \u001b[0;36mlxml.etree.parse (src/lxml/lxml.etree.c:81117)\u001b[0;34m()\u001b[0m\n",
      "\u001b[0;32msrc/lxml/parser.pxi\u001b[0m in \u001b[0;36mlxml.etree._parseDocument (src/lxml/lxml.etree.c:117848)\u001b[0;34m()\u001b[0m\n",
      "\u001b[0;32msrc/lxml/parser.pxi\u001b[0m in \u001b[0;36mlxml.etree._parseDocumentFromURL (src/lxml/lxml.etree.c:118195)\u001b[0;34m()\u001b[0m\n",
      "\u001b[0;32msrc/lxml/parser.pxi\u001b[0m in \u001b[0;36mlxml.etree._parseDocFromFile (src/lxml/lxml.etree.c:117107)\u001b[0;34m()\u001b[0m\n",
      "\u001b[0;32msrc/lxml/parser.pxi\u001b[0m in \u001b[0;36mlxml.etree._BaseParser._parseDocFromFile (src/lxml/lxml.etree.c:111653)\u001b[0;34m()\u001b[0m\n",
      "\u001b[0;32msrc/lxml/parser.pxi\u001b[0m in \u001b[0;36mlxml.etree._ParserContext._handleParseResultDoc (src/lxml/lxml.etree.c:105109)\u001b[0;34m()\u001b[0m\n",
      "\u001b[0;32msrc/lxml/parser.pxi\u001b[0m in \u001b[0;36mlxml.etree._handleParseResult (src/lxml/lxml.etree.c:106817)\u001b[0;34m()\u001b[0m\n",
      "\u001b[0;32msrc/lxml/parser.pxi\u001b[0m in \u001b[0;36mlxml.etree._raiseParseError (src/lxml/lxml.etree.c:105671)\u001b[0;34m()\u001b[0m\n",
      "\u001b[0;31mXMLSyntaxError\u001b[0m: Opening and ending tag mismatch: SMIRNOFF line 3 and SMIRFF, line 71, column 14 (Frosst_AlkEtOH_extracarbons.ffxml, line 71)",
      "\nDuring handling of the above exception, another exception occurred:\n",
      "\u001b[0;31mException\u001b[0m                                 Traceback (most recent call last)",
      "\u001b[0;32m<ipython-input-9-891d1775a96f>\u001b[0m in \u001b[0;36m<module>\u001b[0;34m()\u001b[0m\n\u001b[1;32m      2\u001b[0m \u001b[0;31m# bond parameter line rather than three which otherwise would be required\u001b[0m\u001b[0;34m\u001b[0m\u001b[0;34m\u001b[0m\u001b[0m\n\u001b[1;32m      3\u001b[0m \u001b[0mffxml\u001b[0m \u001b[0;34m=\u001b[0m \u001b[0;34m'Frosst_AlkEtOH_extracarbons.ffxml'\u001b[0m\u001b[0;34m\u001b[0m\u001b[0m\n\u001b[0;32m----> 4\u001b[0;31m \u001b[0mff\u001b[0m \u001b[0;34m=\u001b[0m \u001b[0mForceField\u001b[0m\u001b[0;34m(\u001b[0m\u001b[0mffxml\u001b[0m\u001b[0;34m)\u001b[0m\u001b[0;34m\u001b[0m\u001b[0m\n\u001b[0m",
      "\u001b[0;32m/Users/bannanc/anaconda3/lib/python3.6/site-packages/openforcefield/typing/engines/smirnoff/forcefield.py\u001b[0m in \u001b[0;36m__init__\u001b[0;34m(self, *files)\u001b[0m\n\u001b[1;32m    532\u001b[0m         \"\"\"\n\u001b[1;32m    533\u001b[0m         \u001b[0mself\u001b[0m\u001b[0;34m.\u001b[0m\u001b[0m_forces\u001b[0m \u001b[0;34m=\u001b[0m \u001b[0;34m[\u001b[0m\u001b[0;34m]\u001b[0m\u001b[0;34m\u001b[0m\u001b[0m\n\u001b[0;32m--> 534\u001b[0;31m         \u001b[0mself\u001b[0m\u001b[0;34m.\u001b[0m\u001b[0mloadFile\u001b[0m\u001b[0;34m(\u001b[0m\u001b[0mfiles\u001b[0m\u001b[0;34m)\u001b[0m\u001b[0;34m\u001b[0m\u001b[0m\n\u001b[0m\u001b[1;32m    535\u001b[0m \u001b[0;34m\u001b[0m\u001b[0m\n\u001b[1;32m    536\u001b[0m     \u001b[0;32mdef\u001b[0m \u001b[0mloadFile\u001b[0m\u001b[0;34m(\u001b[0m\u001b[0mself\u001b[0m\u001b[0;34m,\u001b[0m \u001b[0mfiles\u001b[0m\u001b[0;34m)\u001b[0m\u001b[0;34m:\u001b[0m\u001b[0;34m\u001b[0m\u001b[0m\n",
      "\u001b[0;32m/Users/bannanc/anaconda3/lib/python3.6/site-packages/openforcefield/typing/engines/smirnoff/forcefield.py\u001b[0m in \u001b[0;36mloadFile\u001b[0;34m(self, files)\u001b[0m\n\u001b[1;32m    568\u001b[0m                     \u001b[0mfilename\u001b[0m \u001b[0;34m=\u001b[0m \u001b[0mstr\u001b[0m\u001b[0;34m(\u001b[0m\u001b[0mfile\u001b[0m\u001b[0;34m)\u001b[0m\u001b[0;34m\u001b[0m\u001b[0m\n\u001b[1;32m    569\u001b[0m                 \u001b[0mmsg\u001b[0m \u001b[0;34m+=\u001b[0m \u001b[0;34m\"ForceField.loadFile() encountered an error reading file '%s'\\n\"\u001b[0m \u001b[0;34m%\u001b[0m \u001b[0mfilename\u001b[0m\u001b[0;34m\u001b[0m\u001b[0m\n\u001b[0;32m--> 570\u001b[0;31m                 \u001b[0;32mraise\u001b[0m \u001b[0mException\u001b[0m\u001b[0;34m(\u001b[0m\u001b[0mmsg\u001b[0m\u001b[0;34m)\u001b[0m\u001b[0;34m\u001b[0m\u001b[0m\n\u001b[0m\u001b[1;32m    571\u001b[0m \u001b[0;34m\u001b[0m\u001b[0m\n\u001b[1;32m    572\u001b[0m             \u001b[0mtrees\u001b[0m\u001b[0;34m.\u001b[0m\u001b[0mappend\u001b[0m\u001b[0;34m(\u001b[0m\u001b[0mtree\u001b[0m\u001b[0;34m)\u001b[0m\u001b[0;34m\u001b[0m\u001b[0m\n",
      "\u001b[0;31mException\u001b[0m: Opening and ending tag mismatch: SMIRNOFF line 3 and SMIRFF, line 71, column 14 (Frosst_AlkEtOH_extracarbons.ffxml, line 71)\nForceField.loadFile() encountered an error reading file 'Frosst_AlkEtOH_extracarbons.ffxml'\n"
     ]
    }
   ],
   "source": [
    "# Load our forcefield from this directory. Use of partial bond orders here means there is only one [#6X3]~[#6X3] \n",
    "# bond parameter line rather than three which otherwise would be required\n",
    "ffxml = 'Frosst_AlkEtOH_extracarbons.ffxml'\n",
    "ff = ForceField(ffxml)"
   ]
  },
  {
   "cell_type": "code",
   "execution_count": 7,
   "metadata": {
    "collapsed": false
   },
   "outputs": [],
   "source": [
    "# Initialize benzene as a test molecule\n",
    "mol = oechem.OEMol()\n",
    "oeiupac.OEParseIUPACName(mol, 'benzene')\n",
    "omega = oeomega.OEOmega()\n",
    "omega(mol)\n",
    "oechem.OETriposAtomNames(mol)"
   ]
  },
  {
   "cell_type": "code",
   "execution_count": 8,
   "metadata": {
    "collapsed": false
   },
   "outputs": [
    {
     "name": "stdout",
     "output_type": "stream",
     "text": [
      "Applying oechem.oequacpac.OEAssignPartialCharges with specified charge method \"OECharges_AM1BCCSym\".\n",
      "\n",
      "HarmonicBondGenerator:\n",
      "\n",
      "                                               [#6X4:1]-[#6X4:2] :        0 matches\n",
      "                                                 [#6X4:1]-[#1:2] :        0 matches\n",
      "                                                   [#8:1]~[#1:2] :        0 matches\n",
      "                                            [#6X4:1]-[O&X2&H1:2] :        0 matches\n",
      "                                            [#6X4:1]-[O&X2&H0:2] :        0 matches\n",
      "                                                 [#8X2:1]-[#1:2] :        0 matches\n",
      "                                              [#6X3:1]!#[#6X3:2] :       12 matches\n",
      "                                                 [#6X3:1]-[#1:2] :        6 matches\n",
      "\n"
     ]
    },
    {
     "ename": "ValueError",
     "evalue": "Error: your forcefield file does not request to use fractional bond orders in its header, but a harmonic bond attempts to use them.",
     "output_type": "error",
     "traceback": [
      "\u001b[0;31m---------------------------------------------------------------------------\u001b[0m",
      "\u001b[0;31mValueError\u001b[0m                                Traceback (most recent call last)",
      "\u001b[0;32m<ipython-input-8-1a4d3ae6e0ef>\u001b[0m in \u001b[0;36m<module>\u001b[0;34m()\u001b[0m\n\u001b[1;32m      1\u001b[0m \u001b[0mtopology\u001b[0m \u001b[0;34m=\u001b[0m \u001b[0mgenerateTopologyFromOEMol\u001b[0m\u001b[0;34m(\u001b[0m\u001b[0mmol\u001b[0m\u001b[0;34m)\u001b[0m\u001b[0;34m\u001b[0m\u001b[0m\n\u001b[0;32m----> 2\u001b[0;31m \u001b[0msystem\u001b[0m \u001b[0;34m=\u001b[0m \u001b[0mff\u001b[0m\u001b[0;34m.\u001b[0m\u001b[0mcreateSystem\u001b[0m\u001b[0;34m(\u001b[0m\u001b[0mtopology\u001b[0m\u001b[0;34m,\u001b[0m \u001b[0;34m[\u001b[0m\u001b[0mmol\u001b[0m\u001b[0;34m]\u001b[0m\u001b[0;34m,\u001b[0m \u001b[0mchargeMethod\u001b[0m \u001b[0;34m=\u001b[0m \u001b[0;34m'OECharges_AM1BCCSym'\u001b[0m\u001b[0;34m,\u001b[0m \u001b[0mverbose\u001b[0m \u001b[0;34m=\u001b[0m \u001b[0;32mTrue\u001b[0m\u001b[0;34m)\u001b[0m\u001b[0;34m\u001b[0m\u001b[0m\n\u001b[0m",
      "\u001b[0;32m/Users/bannanc/anaconda3/lib/python3.6/site-packages/openforcefield/typing/engines/smirnoff/forcefield.py\u001b[0m in \u001b[0;36mcreateSystem\u001b[0;34m(self, topology, molecules, nonbondedMethod, nonbondedCutoff, constraints, rigidWater, removeCMMotion, hydrogenMass, residueTemplates, chargeMethod, verbose, **kwargs)\u001b[0m\n\u001b[1;32m   1022\u001b[0m         \u001b[0;32mfor\u001b[0m \u001b[0mforce\u001b[0m \u001b[0;32min\u001b[0m \u001b[0mself\u001b[0m\u001b[0;34m.\u001b[0m\u001b[0m_forces\u001b[0m\u001b[0;34m:\u001b[0m\u001b[0;34m\u001b[0m\u001b[0m\n\u001b[1;32m   1023\u001b[0m             \u001b[0;32mif\u001b[0m \u001b[0;34m'createForce'\u001b[0m \u001b[0;32min\u001b[0m \u001b[0mdir\u001b[0m\u001b[0;34m(\u001b[0m\u001b[0mforce\u001b[0m\u001b[0;34m)\u001b[0m\u001b[0;34m:\u001b[0m\u001b[0;34m\u001b[0m\u001b[0m\n\u001b[0;32m-> 1024\u001b[0;31m                 \u001b[0mforce\u001b[0m\u001b[0;34m.\u001b[0m\u001b[0mcreateForce\u001b[0m\u001b[0;34m(\u001b[0m\u001b[0msystem\u001b[0m\u001b[0;34m,\u001b[0m \u001b[0mtopology\u001b[0m\u001b[0;34m,\u001b[0m \u001b[0mverbose\u001b[0m\u001b[0;34m=\u001b[0m\u001b[0mverbose\u001b[0m\u001b[0;34m,\u001b[0m \u001b[0;34m**\u001b[0m\u001b[0mkwargs\u001b[0m\u001b[0;34m)\u001b[0m\u001b[0;34m\u001b[0m\u001b[0m\n\u001b[0m\u001b[1;32m   1025\u001b[0m \u001b[0;34m\u001b[0m\u001b[0m\n\u001b[1;32m   1026\u001b[0m         \u001b[0;31m# Add center-of-mass motion removal, if requested\u001b[0m\u001b[0;34m\u001b[0m\u001b[0;34m\u001b[0m\u001b[0m\n",
      "\u001b[0;32m/Users/bannanc/anaconda3/lib/python3.6/site-packages/openforcefield/typing/engines/smirnoff/forcefield.py\u001b[0m in \u001b[0;36mcreateForce\u001b[0;34m(self, system, topology, verbose, **kwargs)\u001b[0m\n\u001b[1;32m   1472\u001b[0m                 \u001b[0;31m# Make sure forcefield asks for fractional bond orders\u001b[0m\u001b[0;34m\u001b[0m\u001b[0;34m\u001b[0m\u001b[0m\n\u001b[1;32m   1473\u001b[0m                 \u001b[0;32mif\u001b[0m \u001b[0;32mnot\u001b[0m \u001b[0mself\u001b[0m\u001b[0;34m.\u001b[0m\u001b[0mff\u001b[0m\u001b[0;34m.\u001b[0m\u001b[0m_use_fractional_bondorder\u001b[0m\u001b[0;34m:\u001b[0m\u001b[0;34m\u001b[0m\u001b[0m\n\u001b[0;32m-> 1474\u001b[0;31m                     \u001b[0;32mraise\u001b[0m \u001b[0mValueError\u001b[0m\u001b[0;34m(\u001b[0m\u001b[0;34m\"Error: your forcefield file does not request to use fractional bond orders in its header, but a harmonic bond attempts to use them.\"\u001b[0m\u001b[0;34m)\u001b[0m\u001b[0;34m\u001b[0m\u001b[0m\n\u001b[0m\u001b[1;32m   1475\u001b[0m                 \u001b[0;31m# Proceed to do interpolation\u001b[0m\u001b[0;34m\u001b[0m\u001b[0;34m\u001b[0m\u001b[0m\n\u001b[1;32m   1476\u001b[0m                 \u001b[0morder\u001b[0m \u001b[0;34m=\u001b[0m \u001b[0mbondorders\u001b[0m\u001b[0;34m[\u001b[0m\u001b[0matom_indices\u001b[0m\u001b[0;34m]\u001b[0m\u001b[0;34m\u001b[0m\u001b[0m\n",
      "\u001b[0;31mValueError\u001b[0m: Error: your forcefield file does not request to use fractional bond orders in its header, but a harmonic bond attempts to use them."
     ]
    }
   ],
   "source": [
    "topology = generateTopologyFromOEMol(mol)\n",
    "system = ff.createSystem(topology, [mol], chargeMethod = 'OECharges_AM1BCCSym', verbose = True)"
   ]
  },
  {
   "cell_type": "code",
   "execution_count": null,
   "metadata": {
    "collapsed": true
   },
   "outputs": [],
   "source": []
  }
 ],
 "metadata": {
  "kernelspec": {
   "display_name": "Python 3",
   "language": "python",
   "name": "python3"
  },
  "language_info": {
   "codemirror_mode": {
    "name": "ipython",
    "version": 3
   },
   "file_extension": ".py",
   "mimetype": "text/x-python",
   "name": "python",
   "nbconvert_exporter": "python",
   "pygments_lexer": "ipython3",
   "version": "3.6.0"
  }
 },
 "nbformat": 4,
 "nbformat_minor": 0
}
