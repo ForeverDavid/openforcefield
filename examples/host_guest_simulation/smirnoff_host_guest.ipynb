{
 "cells": [
  {
   "cell_type": "markdown",
   "metadata": {},
   "source": [
    "# Host-guest complex setup and simulation using SMIRNOFF\n",
    "\n",
    "This notebook takes a SMILES string for a guest and a 3D structure for a host, and generates an initial structure of the complex using docking. It then proceeds to solvate, parameterize the system, and then minimize and do a short simulation with OpenMM.\n",
    "\n",
    "Please note this is intended for educational purposes and comprises a worked example, not a polished tool. The usual disclaimers apply -- don't take anything here as advice on how you should set up these types of systems; this is just an example of setting up a nontrivial system with SMIRNOFF.\n",
    "\n",
    "## Prerequisites\n",
    "\n",
    "Before beginning, you're going to need a license to the OpenEye toolkits (free for academics), and have these installed and working, ideally in your anaconda Python distribution. Then you'll also need the `openforcefield` toolkits installed, which you can do via `conda install -c omnia openforcefield` if you are using anaconda Python. You'll also need the `oenotebook` OpenEye Jupyter notebook library installed, such as via `pip install -i https://pypi.anaconda.org/openeye/simple openeye-oenotebook`\n",
    "\n",
    "## Import some tools we need initially"
   ]
  },
  {
   "cell_type": "code",
   "execution_count": null,
   "metadata": {
    "collapsed": true
   },
   "outputs": [],
   "source": [
    "from openeye import oechem # OpenEye Python toolkits\n",
    "import oenotebook as oenb\n",
    "# Check license\n",
    "print(oechem.OEChemIsLicensed())"
   ]
  },
  {
   "cell_type": "code",
   "execution_count": null,
   "metadata": {
    "collapsed": true
   },
   "outputs": [],
   "source": []
  }
 ],
 "metadata": {
  "anaconda-cloud": {},
  "kernelspec": {
   "display_name": "Python [conda root]",
   "language": "python",
   "name": "conda-root-py"
  },
  "language_info": {
   "codemirror_mode": {
    "name": "ipython",
    "version": 3
   },
   "file_extension": ".py",
   "mimetype": "text/x-python",
   "name": "python",
   "nbconvert_exporter": "python",
   "pygments_lexer": "ipython3",
   "version": "3.5.2"
  }
 },
 "nbformat": 4,
 "nbformat_minor": 1
}
